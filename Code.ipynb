{
 "cells": [
  {
   "cell_type": "code",
   "execution_count": 1,
   "id": "1e90aea6",
   "metadata": {
    "colab": {
     "background_save": true
    },
    "id": "1e90aea6"
   },
   "outputs": [],
   "source": [
    "import pandas as pd\n",
    "import numpy as np\n",
    "import re\n",
    "import warnings\n",
    "import matplotlib\n",
    "import matplotlib.pyplot as plt\n",
    "from nltk.tokenize import WhitespaceTokenizer\n",
    "from nltk.stem import WordNetLemmatizer\n",
    "from nltk.corpus import stopwords\n",
    "from wordcloud import WordCloud\n",
    "from sklearn import preprocessing\n",
    "from sklearn.feature_extraction.text import CountVectorizer\n",
    "import os"
   ]
  },
  {
   "cell_type": "code",
   "execution_count": 2,
   "id": "adf20e68",
   "metadata": {
    "colab": {
     "base_uri": "https://localhost:8080/",
     "height": 560
    },
    "executionInfo": {
     "elapsed": 1679,
     "status": "ok",
     "timestamp": 1726893735546,
     "user": {
      "displayName": "boljagan",
      "userId": "03505259739820159249"
     },
     "user_tz": -330
    },
    "id": "adf20e68",
    "outputId": "91dd8c41-d31d-4151-ac23-70b602a2bdc9"
   },
   "outputs": [
    {
     "name": "stdout",
     "output_type": "stream",
     "text": [
      "All column names have been striped, lowered case, replaced space with underscore if any\n",
      "Dropped duplicated instances if any\n",
      "Categorical instances have been striped\n"
     ]
    },
    {
     "data": {
      "text/html": [
       "<div>\n",
       "<style scoped>\n",
       "    .dataframe tbody tr th:only-of-type {\n",
       "        vertical-align: middle;\n",
       "    }\n",
       "\n",
       "    .dataframe tbody tr th {\n",
       "        vertical-align: top;\n",
       "    }\n",
       "\n",
       "    .dataframe thead th {\n",
       "        text-align: right;\n",
       "    }\n",
       "</style>\n",
       "<table border=\"1\" class=\"dataframe\">\n",
       "  <thead>\n",
       "    <tr style=\"text-align: right;\">\n",
       "      <th></th>\n",
       "      <th>description</th>\n",
       "      <th>medical_specialty</th>\n",
       "      <th>sample_name</th>\n",
       "      <th>transcription</th>\n",
       "      <th>keywords</th>\n",
       "    </tr>\n",
       "  </thead>\n",
       "  <tbody>\n",
       "    <tr>\n",
       "      <th>0</th>\n",
       "      <td>A 23-year-old white female presents with complaint of allergies.</td>\n",
       "      <td>Allergy / Immunology</td>\n",
       "      <td>Allergic Rhinitis</td>\n",
       "      <td>SUBJECTIVE:,  This 23-year-old white female presents with complaint of allergies.  She used to have allergies when she lived in Seattle but she thinks they are worse here.  In the past, she has tried Claritin, and Zyrtec.  Both worked for short time b...</td>\n",
       "      <td>allergy / immunology, allergic rhinitis, allergies, asthma, nasal sprays, rhinitis, nasal, erythematous, allegra, sprays, allergic,</td>\n",
       "    </tr>\n",
       "    <tr>\n",
       "      <th>1</th>\n",
       "      <td>Consult for laparoscopic gastric bypass.</td>\n",
       "      <td>Bariatrics</td>\n",
       "      <td>Laparoscopic Gastric Bypass Consult - 2</td>\n",
       "      <td>PAST MEDICAL HISTORY:, He has difficulty climbing stairs, difficulty with airline seats, tying shoes, used to public seating, and lifting objects off the floor.  He exercises three times a week at home and does cardio.  He has difficulty walking two b...</td>\n",
       "      <td>bariatrics, laparoscopic gastric bypass, weight loss programs, gastric bypass, atkin's diet, weight watcher's, body weight, laparoscopic gastric, weight loss, pounds, months, weight, laparoscopic, band, loss, diets, overweight, lost</td>\n",
       "    </tr>\n",
       "    <tr>\n",
       "      <th>2</th>\n",
       "      <td>Consult for laparoscopic gastric bypass.</td>\n",
       "      <td>Bariatrics</td>\n",
       "      <td>Laparoscopic Gastric Bypass Consult - 1</td>\n",
       "      <td>HISTORY OF PRESENT ILLNESS: , I have seen ABC today.  He is a very pleasant gentleman who is 42 years old, 344 pounds.  He is 5'9\".  He has a BMI of 51.  He has been overweight for ten years since the age of 33, at his highest he was 358 pounds, at hi...</td>\n",
       "      <td>bariatrics, laparoscopic gastric bypass, heart attacks, body weight, pulmonary embolism, potential complications, sleep study, weight loss, gastric bypass, anastomosis, loss, sleep, laparoscopic, gastric, bypass, heart, pounds, weight,</td>\n",
       "    </tr>\n",
       "  </tbody>\n",
       "</table>\n",
       "</div>"
      ],
      "text/plain": [
       "                                                        description  \\\n",
       "0  A 23-year-old white female presents with complaint of allergies.   \n",
       "1                          Consult for laparoscopic gastric bypass.   \n",
       "2                          Consult for laparoscopic gastric bypass.   \n",
       "\n",
       "      medical_specialty                              sample_name  \\\n",
       "0  Allergy / Immunology                        Allergic Rhinitis   \n",
       "1            Bariatrics  Laparoscopic Gastric Bypass Consult - 2   \n",
       "2            Bariatrics  Laparoscopic Gastric Bypass Consult - 1   \n",
       "\n",
       "                                                                                                                                                                                                                                                    transcription  \\\n",
       "0  SUBJECTIVE:,  This 23-year-old white female presents with complaint of allergies.  She used to have allergies when she lived in Seattle but she thinks they are worse here.  In the past, she has tried Claritin, and Zyrtec.  Both worked for short time b...   \n",
       "1  PAST MEDICAL HISTORY:, He has difficulty climbing stairs, difficulty with airline seats, tying shoes, used to public seating, and lifting objects off the floor.  He exercises three times a week at home and does cardio.  He has difficulty walking two b...   \n",
       "2  HISTORY OF PRESENT ILLNESS: , I have seen ABC today.  He is a very pleasant gentleman who is 42 years old, 344 pounds.  He is 5'9\".  He has a BMI of 51.  He has been overweight for ten years since the age of 33, at his highest he was 358 pounds, at hi...   \n",
       "\n",
       "                                                                                                                                                                                                                                      keywords  \n",
       "0                                                                                                          allergy / immunology, allergic rhinitis, allergies, asthma, nasal sprays, rhinitis, nasal, erythematous, allegra, sprays, allergic,  \n",
       "1     bariatrics, laparoscopic gastric bypass, weight loss programs, gastric bypass, atkin's diet, weight watcher's, body weight, laparoscopic gastric, weight loss, pounds, months, weight, laparoscopic, band, loss, diets, overweight, lost  \n",
       "2  bariatrics, laparoscopic gastric bypass, heart attacks, body weight, pulmonary embolism, potential complications, sleep study, weight loss, gastric bypass, anastomosis, loss, sleep, laparoscopic, gastric, bypass, heart, pounds, weight,  "
      ]
     },
     "execution_count": 2,
     "metadata": {},
     "output_type": "execute_result"
    }
   ],
   "source": [
    "def trim(df):\n",
    "    df.columns = df.columns.str.strip()\n",
    "    df = df.drop_duplicates()\n",
    "    df.columns = df.columns.str.lower()\n",
    "    df.columns = df.columns.str.replace(' ','_')\n",
    "    df_obj = df.select_dtypes(['object'])\n",
    "    df[df_obj.columns] = df_obj.apply(lambda x: x.str.strip())\n",
    "    print(\"All column names have been striped, lowered case, replaced space with underscore if any\")\n",
    "    print(\"Dropped duplicated instances if any\")\n",
    "    print(\"Categorical instances have been striped\")\n",
    "    return df\n",
    "\n",
    "pd.set_option('display.max_colwidth', 255)\n",
    "df =pd.read_csv('mtsamples1.csv')\n",
    "df.drop('Unnamed: 0', axis=1, inplace=True)\n",
    "df = trim(df)\n",
    "\n",
    "def vc(df, column, r=False):\n",
    "    vc_df = df.reset_index().groupby([column]).size().to_frame('count')\n",
    "    vc_df['percentage (%)'] = vc_df['count'].div(sum(vc_df['count'])).mul(100)\n",
    "    vc_df = vc_df.sort_values(by=['percentage (%)'], ascending=False)\n",
    "    if r:\n",
    "        return vc_df\n",
    "    else:\n",
    "        print(f'STATUS: Value counts of \"{column}\"...')\n",
    "        display(vc_df)\n",
    "\n",
    "def shape(df,df_name):\n",
    "    print(f'STATUS: Dimension of \"{df_name}\" = {df.shape}')\n",
    "\n",
    "df.head(3)"
   ]
  },
  {
   "cell_type": "code",
   "execution_count": 3,
   "id": "090b8b8c",
   "metadata": {
    "colab": {
     "base_uri": "https://localhost:8080/"
    },
    "executionInfo": {
     "elapsed": 461,
     "status": "ok",
     "timestamp": 1726893741052,
     "user": {
      "displayName": "boljagan",
      "userId": "03505259739820159249"
     },
     "user_tz": -330
    },
    "id": "090b8b8c",
    "outputId": "ea8bbd6a-ac2c-4fa1-b063-9c4685c8a967"
   },
   "outputs": [
    {
     "name": "stdout",
     "output_type": "stream",
     "text": [
      "STATUS: Dimension of \"df\" = (260, 5)\n"
     ]
    }
   ],
   "source": [
    "df = df[df['medical_specialty'].isin(['Neurosurgery','ENT - Otolaryngology','Discharge Summary'])]\n",
    "shape(df,'df')"
   ]
  },
  {
   "cell_type": "markdown",
   "id": "1818d1f8",
   "metadata": {
    "id": "1818d1f8"
   },
   "source": [
    "# <b>1.2 <span style='color:red'>|</span> Word Counts of Each Medical Specialty </b> <a class=\"anchor\" id=\"1.2\"></a>"
   ]
  },
  {
   "cell_type": "markdown",
   "id": "2a16571d",
   "metadata": {
    "id": "2a16571d"
   },
   "source": [
    "To query the data, I would like to know how is the size of the dataset and also to rank null values in descending order"
   ]
  },
  {
   "cell_type": "code",
   "execution_count": 6,
   "id": "7be829f5",
   "metadata": {
    "colab": {
     "base_uri": "https://localhost:8080/",
     "height": 143
    },
    "executionInfo": {
     "elapsed": 572,
     "status": "ok",
     "timestamp": 1726893745620,
     "user": {
      "displayName": "boljagan",
      "userId": "03505259739820159249"
     },
     "user_tz": -330
    },
    "id": "7be829f5",
    "outputId": "bd979dbd-8cad-4be8-c7f9-1abec0977f67"
   },
   "outputs": [
    {
     "data": {
      "text/html": [
       "<div>\n",
       "<style scoped>\n",
       "    .dataframe tbody tr th:only-of-type {\n",
       "        vertical-align: middle;\n",
       "    }\n",
       "\n",
       "    .dataframe tbody tr th {\n",
       "        vertical-align: top;\n",
       "    }\n",
       "\n",
       "    .dataframe thead th {\n",
       "        text-align: right;\n",
       "    }\n",
       "</style>\n",
       "<table border=\"1\" class=\"dataframe\">\n",
       "  <thead>\n",
       "    <tr style=\"text-align: right;\">\n",
       "      <th></th>\n",
       "      <th>Medical Specialty</th>\n",
       "      <th>Word Count</th>\n",
       "    </tr>\n",
       "  </thead>\n",
       "  <tbody>\n",
       "    <tr>\n",
       "      <th>0</th>\n",
       "      <td>Discharge Summary</td>\n",
       "      <td>43103</td>\n",
       "    </tr>\n",
       "    <tr>\n",
       "      <th>1</th>\n",
       "      <td>ENT - Otolaryngology</td>\n",
       "      <td>42032</td>\n",
       "    </tr>\n",
       "    <tr>\n",
       "      <th>2</th>\n",
       "      <td>Neurosurgery</td>\n",
       "      <td>31771</td>\n",
       "    </tr>\n",
       "  </tbody>\n",
       "</table>\n",
       "</div>"
      ],
      "text/plain": [
       "      Medical Specialty  Word Count\n",
       "0     Discharge Summary       43103\n",
       "1  ENT - Otolaryngology       42032\n",
       "2          Neurosurgery       31771"
      ]
     },
     "execution_count": 6,
     "metadata": {},
     "output_type": "execute_result"
    }
   ],
   "source": [
    "medical_specialty_list = [] ; word_count_list =[]\n",
    "for medical_specialty in df['medical_specialty'].unique():\n",
    "    df_filter = df.loc[(df['medical_specialty'] == medical_specialty)]\n",
    "    word_count_temp = df_filter['transcription'].str.split().str.len().sum()\n",
    "    medical_specialty_list.append(medical_specialty)\n",
    "    word_count_list.append(word_count_temp)\n",
    "word_count_df = pd.DataFrame({'Medical Specialty':medical_specialty_list, 'Word Count':word_count_list})\n",
    "word_count_df['Word Count'] = word_count_df['Word Count'].astype('int')\n",
    "word_count_df = word_count_df.sort_values('Word Count', ascending=False)\n",
    "word_count_df.reset_index(drop=True)"
   ]
  },
  {
   "cell_type": "code",
   "execution_count": 7,
   "id": "8526b3a3",
   "metadata": {
    "colab": {
     "base_uri": "https://localhost:8080/"
    },
    "executionInfo": {
     "elapsed": 2,
     "status": "ok",
     "timestamp": 1726893749469,
     "user": {
      "displayName": "boljagan",
      "userId": "03505259739820159249"
     },
     "user_tz": -330
    },
    "id": "8526b3a3",
    "outputId": "ce803b1a-e802-492b-c46a-b32f9f2aeab3"
   },
   "outputs": [
    {
     "name": "stdout",
     "output_type": "stream",
     "text": [
      "The word count of all transcription is: 116906\n"
     ]
    }
   ],
   "source": [
    "total_word_count = df['transcription'].str.split().str.len().sum()\n",
    "print(f'The word count of all transcription is: {int(total_word_count)}')"
   ]
  },
  {
   "cell_type": "markdown",
   "id": "c8ef0aca",
   "metadata": {
    "id": "c8ef0aca"
   },
   "source": [
    "# <b>1.3 <span style='color:red'>|</span> Sample Size of Each Medical Specialty </b> <a class=\"anchor\" id=\"1.3\"></a>"
   ]
  },
  {
   "cell_type": "code",
   "execution_count": 9,
   "id": "a1ac8747",
   "metadata": {
    "colab": {
     "base_uri": "https://localhost:8080/",
     "height": 192
    },
    "executionInfo": {
     "elapsed": 581,
     "status": "ok",
     "timestamp": 1726893754413,
     "user": {
      "displayName": "boljagan",
      "userId": "03505259739820159249"
     },
     "user_tz": -330
    },
    "id": "a1ac8747",
    "outputId": "8d2c9d13-1002-472f-895c-be14291d8f3d"
   },
   "outputs": [
    {
     "name": "stdout",
     "output_type": "stream",
     "text": [
      "STATUS: Value counts of \"medical_specialty\"...\n"
     ]
    },
    {
     "data": {
      "text/html": [
       "<div>\n",
       "<style scoped>\n",
       "    .dataframe tbody tr th:only-of-type {\n",
       "        vertical-align: middle;\n",
       "    }\n",
       "\n",
       "    .dataframe tbody tr th {\n",
       "        vertical-align: top;\n",
       "    }\n",
       "\n",
       "    .dataframe thead th {\n",
       "        text-align: right;\n",
       "    }\n",
       "</style>\n",
       "<table border=\"1\" class=\"dataframe\">\n",
       "  <thead>\n",
       "    <tr style=\"text-align: right;\">\n",
       "      <th></th>\n",
       "      <th>count</th>\n",
       "      <th>percentage (%)</th>\n",
       "    </tr>\n",
       "    <tr>\n",
       "      <th>medical_specialty</th>\n",
       "      <th></th>\n",
       "      <th></th>\n",
       "    </tr>\n",
       "  </thead>\n",
       "  <tbody>\n",
       "    <tr>\n",
       "      <th>Discharge Summary</th>\n",
       "      <td>108</td>\n",
       "      <td>41.538462</td>\n",
       "    </tr>\n",
       "    <tr>\n",
       "      <th>ENT - Otolaryngology</th>\n",
       "      <td>98</td>\n",
       "      <td>37.692308</td>\n",
       "    </tr>\n",
       "    <tr>\n",
       "      <th>Neurosurgery</th>\n",
       "      <td>54</td>\n",
       "      <td>20.769231</td>\n",
       "    </tr>\n",
       "  </tbody>\n",
       "</table>\n",
       "</div>"
      ],
      "text/plain": [
       "                      count  percentage (%)\n",
       "medical_specialty                          \n",
       "Discharge Summary       108       41.538462\n",
       "ENT - Otolaryngology     98       37.692308\n",
       "Neurosurgery             54       20.769231"
      ]
     },
     "metadata": {},
     "output_type": "display_data"
    }
   ],
   "source": [
    "vc(df, 'medical_specialty')"
   ]
  },
  {
   "cell_type": "markdown",
   "id": "dd4c132d",
   "metadata": {
    "id": "dd4c132d"
   },
   "source": [
    "# <b>1.4 <span style='color:red'>|</span> General Cleaning </b> <a class=\"anchor\" id=\"1.4\"></a>"
   ]
  },
  {
   "cell_type": "code",
   "execution_count": 11,
   "id": "ff55e92b",
   "metadata": {
    "colab": {
     "base_uri": "https://localhost:8080/",
     "height": 258
    },
    "executionInfo": {
     "elapsed": 498,
     "status": "ok",
     "timestamp": 1726893758076,
     "user": {
      "displayName": "boljagan",
      "userId": "03505259739820159249"
     },
     "user_tz": -330
    },
    "id": "ff55e92b",
    "outputId": "3dcf7424-b382-484f-ca1a-87e353c30203"
   },
   "outputs": [
    {
     "name": "stdout",
     "output_type": "stream",
     "text": [
      "data shape is: (260, 5)\n"
     ]
    },
    {
     "data": {
      "text/plain": [
       "keywords             51\n",
       "transcription         2\n",
       "description           0\n",
       "medical_specialty     0\n",
       "sample_name           0\n",
       "dtype: int64"
      ]
     },
     "execution_count": 11,
     "metadata": {},
     "output_type": "execute_result"
    }
   ],
   "source": [
    "# to print data shape\n",
    "print(f'data shape is: {df.shape}')\n",
    "\n",
    "# to identify the null values by descending order\n",
    "df.isnull().sum().sort_values(ascending = False)"
   ]
  },
  {
   "cell_type": "markdown",
   "id": "82f61138",
   "metadata": {
    "id": "82f61138"
   },
   "source": [
    "One important detail is that I found out there are 2 rows containing no transcription. They should be removed as transcription is our only predictors in this text classification task."
   ]
  },
  {
   "cell_type": "code",
   "execution_count": 13,
   "id": "5853c0b8",
   "metadata": {
    "colab": {
     "base_uri": "https://localhost:8080/"
    },
    "executionInfo": {
     "elapsed": 486,
     "status": "ok",
     "timestamp": 1726893764000,
     "user": {
      "displayName": "boljagan",
      "userId": "03505259739820159249"
     },
     "user_tz": -330
    },
    "id": "5853c0b8",
    "outputId": "81c204c7-40b7-4cac-a2bd-8dfd3d476c9d"
   },
   "outputs": [
    {
     "name": "stdout",
     "output_type": "stream",
     "text": [
      "<class 'pandas.core.frame.DataFrame'>\n",
      "Index: 258 entries, 2222 to 3519\n",
      "Data columns (total 5 columns):\n",
      " #   Column             Non-Null Count  Dtype \n",
      "---  ------             --------------  ----- \n",
      " 0   description        258 non-null    object\n",
      " 1   medical_specialty  258 non-null    object\n",
      " 2   sample_name        258 non-null    object\n",
      " 3   transcription      258 non-null    object\n",
      " 4   keywords           207 non-null    object\n",
      "dtypes: object(5)\n",
      "memory usage: 12.1+ KB\n"
     ]
    }
   ],
   "source": [
    "# to remove transcription rows that is empty\n",
    "df = df[df['transcription'].notna()]\n",
    "df.info()"
   ]
  },
  {
   "cell_type": "markdown",
   "id": "c7eca585",
   "metadata": {
    "id": "c7eca585"
   },
   "source": [
    "After dropping the null values, there are no null values for the transcription attribute."
   ]
  },
  {
   "cell_type": "code",
   "execution_count": 15,
   "id": "16da2a06",
   "metadata": {
    "colab": {
     "base_uri": "https://localhost:8080/",
     "height": 182
    },
    "executionInfo": {
     "elapsed": 549,
     "status": "ok",
     "timestamp": 1726893774134,
     "user": {
      "displayName": "boljagan",
      "userId": "03505259739820159249"
     },
     "user_tz": -330
    },
    "id": "16da2a06",
    "outputId": "446f97cc-0485-4989-f13e-f7c737600e51"
   },
   "outputs": [
    {
     "data": {
      "text/html": [
       "<div>\n",
       "<style scoped>\n",
       "    .dataframe tbody tr th:only-of-type {\n",
       "        vertical-align: middle;\n",
       "    }\n",
       "\n",
       "    .dataframe tbody tr th {\n",
       "        vertical-align: top;\n",
       "    }\n",
       "\n",
       "    .dataframe thead th {\n",
       "        text-align: right;\n",
       "    }\n",
       "</style>\n",
       "<table border=\"1\" class=\"dataframe\">\n",
       "  <thead>\n",
       "    <tr style=\"text-align: right;\">\n",
       "      <th></th>\n",
       "      <th>medical_specialty</th>\n",
       "      <th>transcription</th>\n",
       "    </tr>\n",
       "  </thead>\n",
       "  <tbody>\n",
       "    <tr>\n",
       "      <th>2222</th>\n",
       "      <td>Neurosurgery</td>\n",
       "      <td>TITLE OF OPERATION:,  A complex closure and debridement of wound.,INDICATION FOR SURGERY:,  The patient is a 26-year-old female with a long history of shunt and hydrocephalus presenting with a draining wound in the right upper quadrant, just below the...</td>\n",
       "    </tr>\n",
       "    <tr>\n",
       "      <th>2223</th>\n",
       "      <td>Neurosurgery</td>\n",
       "      <td>TITLE OF OPERATION: , Placement of right new ventriculoperitoneal (VP) shunts Strata valve and to removal of right frontal Ommaya reservoir.,INDICATION FOR SURGERY: , The patient is a 2-month-old infant, born premature with intraventricular hemorrhage...</td>\n",
       "    </tr>\n",
       "  </tbody>\n",
       "</table>\n",
       "</div>"
      ],
      "text/plain": [
       "     medical_specialty  \\\n",
       "2222      Neurosurgery   \n",
       "2223      Neurosurgery   \n",
       "\n",
       "                                                                                                                                                                                                                                                       transcription  \n",
       "2222  TITLE OF OPERATION:,  A complex closure and debridement of wound.,INDICATION FOR SURGERY:,  The patient is a 26-year-old female with a long history of shunt and hydrocephalus presenting with a draining wound in the right upper quadrant, just below the...  \n",
       "2223  TITLE OF OPERATION: , Placement of right new ventriculoperitoneal (VP) shunts Strata valve and to removal of right frontal Ommaya reservoir.,INDICATION FOR SURGERY: , The patient is a 2-month-old infant, born premature with intraventricular hemorrhage...  "
      ]
     },
     "execution_count": 15,
     "metadata": {},
     "output_type": "execute_result"
    }
   ],
   "source": [
    "# drop redundant columns\n",
    "df =df.drop(['description','sample_name','keywords'], axis=1)\n",
    "df.head(2)"
   ]
  },
  {
   "cell_type": "markdown",
   "id": "e3551122",
   "metadata": {
    "id": "e3551122"
   },
   "source": [
    "The target labels (or the topic) is the 'medical_specialty' attribute. Now, let's identify how is the value counts of the target labels, and as well visualise it in a bar chart. In order to visualise in matplotlib, function of flattening list is defined in order to put the target value counts into the matplotlib function."
   ]
  },
  {
   "cell_type": "markdown",
   "id": "019977cc",
   "metadata": {
    "id": "019977cc"
   },
   "source": [
    "The target labels is quite balanced"
   ]
  },
  {
   "cell_type": "markdown",
   "id": "b2644b3c",
   "metadata": {
    "id": "b2644b3c"
   },
   "source": [
    "# <b>2.0 <span style='color:red'>|</span> Text Normalisation </b> <a class=\"anchor\" id=\"2.0\"></a>"
   ]
  },
  {
   "cell_type": "markdown",
   "id": "2cb66b42",
   "metadata": {
    "id": "2cb66b42"
   },
   "source": [
    "Data normalisation will be conducted for the trascription. One of the reasons is to convert the transcript into standard format, which important for data extraction later. In this data normalisation task, following task will be executed, which are:\n",
    "1. Lowe Case\n",
    "2. Removing punctuation and numbers\n",
    "3. Tokenisation of the transcription\n",
    "4. Lemmatisation\n",
    "5. Remove Stop Words"
   ]
  },
  {
   "cell_type": "markdown",
   "id": "519056a0",
   "metadata": {
    "id": "519056a0"
   },
   "source": [
    "# <b>2.1 <span style='color:red'>|</span> Lower Case </b> <a class=\"anchor\" id=\"2.1\"></a>"
   ]
  },
  {
   "cell_type": "code",
   "execution_count": 21,
   "id": "0cb823ae",
   "metadata": {
    "colab": {
     "base_uri": "https://localhost:8080/",
     "height": 248
    },
    "executionInfo": {
     "elapsed": 545,
     "status": "ok",
     "timestamp": 1726893780252,
     "user": {
      "displayName": "boljagan",
      "userId": "03505259739820159249"
     },
     "user_tz": -330
    },
    "id": "0cb823ae",
    "outputId": "ecaa7b30-de0a-41c3-b009-f3d5f5de41f0"
   },
   "outputs": [
    {
     "data": {
      "text/html": [
       "<div>\n",
       "<style scoped>\n",
       "    .dataframe tbody tr th:only-of-type {\n",
       "        vertical-align: middle;\n",
       "    }\n",
       "\n",
       "    .dataframe tbody tr th {\n",
       "        vertical-align: top;\n",
       "    }\n",
       "\n",
       "    .dataframe thead th {\n",
       "        text-align: right;\n",
       "    }\n",
       "</style>\n",
       "<table border=\"1\" class=\"dataframe\">\n",
       "  <thead>\n",
       "    <tr style=\"text-align: right;\">\n",
       "      <th></th>\n",
       "      <th>medical_specialty</th>\n",
       "      <th>transcription</th>\n",
       "    </tr>\n",
       "  </thead>\n",
       "  <tbody>\n",
       "    <tr>\n",
       "      <th>2222</th>\n",
       "      <td>Neurosurgery</td>\n",
       "      <td>title of operation:,  a complex closure and debridement of wound.,indication for surgery:,  the patient is a 26-year-old female with a long history of shunt and hydrocephalus presenting with a draining wound in the right upper quadrant, just below the...</td>\n",
       "    </tr>\n",
       "    <tr>\n",
       "      <th>2223</th>\n",
       "      <td>Neurosurgery</td>\n",
       "      <td>title of operation: , placement of right new ventriculoperitoneal (vp) shunts strata valve and to removal of right frontal ommaya reservoir.,indication for surgery: , the patient is a 2-month-old infant, born premature with intraventricular hemorrhage...</td>\n",
       "    </tr>\n",
       "    <tr>\n",
       "      <th>2224</th>\n",
       "      <td>Neurosurgery</td>\n",
       "      <td>preoperative diagnosis: , aqueductal stenosis.,postoperative diagnosis:,  aqueductal stenosis.,title of procedure:  ,endoscopic third ventriculostomy.,anesthesia: , general endotracheal tube anesthesia.,devices:,  bactiseal ventricular catheter with a...</td>\n",
       "    </tr>\n",
       "  </tbody>\n",
       "</table>\n",
       "</div>"
      ],
      "text/plain": [
       "     medical_specialty  \\\n",
       "2222      Neurosurgery   \n",
       "2223      Neurosurgery   \n",
       "2224      Neurosurgery   \n",
       "\n",
       "                                                                                                                                                                                                                                                       transcription  \n",
       "2222  title of operation:,  a complex closure and debridement of wound.,indication for surgery:,  the patient is a 26-year-old female with a long history of shunt and hydrocephalus presenting with a draining wound in the right upper quadrant, just below the...  \n",
       "2223  title of operation: , placement of right new ventriculoperitoneal (vp) shunts strata valve and to removal of right frontal ommaya reservoir.,indication for surgery: , the patient is a 2-month-old infant, born premature with intraventricular hemorrhage...  \n",
       "2224  preoperative diagnosis: , aqueductal stenosis.,postoperative diagnosis:,  aqueductal stenosis.,title of procedure:  ,endoscopic third ventriculostomy.,anesthesia: , general endotracheal tube anesthesia.,devices:,  bactiseal ventricular catheter with a...  "
      ]
     },
     "execution_count": 21,
     "metadata": {},
     "output_type": "execute_result"
    }
   ],
   "source": [
    "# To convert transcription into lowercase\n",
    "def lower(df, attribute):\n",
    "    df.loc[:,attribute] = df[attribute].apply(lambda x : str.lower(x))\n",
    "    return df\n",
    "df = lower(df,'transcription')\n",
    "df.head(3)"
   ]
  },
  {
   "cell_type": "markdown",
   "id": "a7638218",
   "metadata": {
    "id": "a7638218"
   },
   "source": [
    "# <b>2.2 <span style='color:red'>|</span> Remove Punctuation and Numbers </b> <a class=\"anchor\" id=\"2.2\"></a>"
   ]
  },
  {
   "cell_type": "code",
   "execution_count": 23,
   "id": "55b22128",
   "metadata": {
    "colab": {
     "base_uri": "https://localhost:8080/",
     "height": 248
    },
    "executionInfo": {
     "elapsed": 543,
     "status": "ok",
     "timestamp": 1726893785427,
     "user": {
      "displayName": "boljagan",
      "userId": "03505259739820159249"
     },
     "user_tz": -330
    },
    "id": "55b22128",
    "outputId": "acb0012c-636e-4f6d-f213-469735a15a84"
   },
   "outputs": [
    {
     "name": "stderr",
     "output_type": "stream",
     "text": [
      "<>:5: SyntaxWarning: invalid escape sequence '\\w'\n",
      "<>:6: SyntaxWarning: invalid escape sequence '\\d'\n",
      "<>:5: SyntaxWarning: invalid escape sequence '\\w'\n",
      "<>:6: SyntaxWarning: invalid escape sequence '\\d'\n",
      "C:\\Users\\MIC LAB\\AppData\\Local\\Temp\\ipykernel_12320\\3082104392.py:5: SyntaxWarning: invalid escape sequence '\\w'\n",
      "  df.loc[:,attribute] = df[attribute].apply(lambda x : \" \".join(re.findall('[\\w]+',x)))\n",
      "C:\\Users\\MIC LAB\\AppData\\Local\\Temp\\ipykernel_12320\\3082104392.py:6: SyntaxWarning: invalid escape sequence '\\d'\n",
      "  df[attribute] = df[attribute].str.replace('\\d+', '')\n"
     ]
    },
    {
     "data": {
      "text/html": [
       "<div>\n",
       "<style scoped>\n",
       "    .dataframe tbody tr th:only-of-type {\n",
       "        vertical-align: middle;\n",
       "    }\n",
       "\n",
       "    .dataframe tbody tr th {\n",
       "        vertical-align: top;\n",
       "    }\n",
       "\n",
       "    .dataframe thead th {\n",
       "        text-align: right;\n",
       "    }\n",
       "</style>\n",
       "<table border=\"1\" class=\"dataframe\">\n",
       "  <thead>\n",
       "    <tr style=\"text-align: right;\">\n",
       "      <th></th>\n",
       "      <th>medical_specialty</th>\n",
       "      <th>transcription</th>\n",
       "    </tr>\n",
       "  </thead>\n",
       "  <tbody>\n",
       "    <tr>\n",
       "      <th>2222</th>\n",
       "      <td>Neurosurgery</td>\n",
       "      <td>title of operation a complex closure and debridement of wound indication for surgery the patient is a 26 year old female with a long history of shunt and hydrocephalus presenting with a draining wound in the right upper quadrant just below the costal ...</td>\n",
       "    </tr>\n",
       "    <tr>\n",
       "      <th>2223</th>\n",
       "      <td>Neurosurgery</td>\n",
       "      <td>title of operation placement of right new ventriculoperitoneal vp shunts strata valve and to removal of right frontal ommaya reservoir indication for surgery the patient is a 2 month old infant born premature with intraventricular hemorrhage and ommay...</td>\n",
       "    </tr>\n",
       "    <tr>\n",
       "      <th>2224</th>\n",
       "      <td>Neurosurgery</td>\n",
       "      <td>preoperative diagnosis aqueductal stenosis postoperative diagnosis aqueductal stenosis title of procedure endoscopic third ventriculostomy anesthesia general endotracheal tube anesthesia devices bactiseal ventricular catheter with an aesculap burr hol...</td>\n",
       "    </tr>\n",
       "  </tbody>\n",
       "</table>\n",
       "</div>"
      ],
      "text/plain": [
       "     medical_specialty  \\\n",
       "2222      Neurosurgery   \n",
       "2223      Neurosurgery   \n",
       "2224      Neurosurgery   \n",
       "\n",
       "                                                                                                                                                                                                                                                       transcription  \n",
       "2222  title of operation a complex closure and debridement of wound indication for surgery the patient is a 26 year old female with a long history of shunt and hydrocephalus presenting with a draining wound in the right upper quadrant just below the costal ...  \n",
       "2223  title of operation placement of right new ventriculoperitoneal vp shunts strata valve and to removal of right frontal ommaya reservoir indication for surgery the patient is a 2 month old infant born premature with intraventricular hemorrhage and ommay...  \n",
       "2224  preoperative diagnosis aqueductal stenosis postoperative diagnosis aqueductal stenosis title of procedure endoscopic third ventriculostomy anesthesia general endotracheal tube anesthesia devices bactiseal ventricular catheter with an aesculap burr hol...  "
      ]
     },
     "execution_count": 23,
     "metadata": {},
     "output_type": "execute_result"
    }
   ],
   "source": [
    "# To remove transcription punctuation and numbers\n",
    "\n",
    "warnings.filterwarnings('ignore')\n",
    "def remove_punc_num(df, attribute):\n",
    "    df.loc[:,attribute] = df[attribute].apply(lambda x : \" \".join(re.findall('[\\w]+',x)))\n",
    "    df[attribute] = df[attribute].str.replace('\\d+', '')\n",
    "    return df\n",
    "df =remove_punc_num(df, 'transcription')\n",
    "df_no_punc =df.copy()\n",
    "df.head(3)"
   ]
  },
  {
   "cell_type": "markdown",
   "id": "45781c44",
   "metadata": {
    "id": "45781c44"
   },
   "source": [
    "# <b>2.3 <span style='color:red'>|</span> Tokenisation </b> <a class=\"anchor\" id=\"2.3\"></a>\n"
   ]
  },
  {
   "cell_type": "code",
   "execution_count": 25,
   "id": "97ff0916",
   "metadata": {
    "colab": {
     "base_uri": "https://localhost:8080/",
     "height": 404
    },
    "executionInfo": {
     "elapsed": 655,
     "status": "ok",
     "timestamp": 1726893789504,
     "user": {
      "displayName": "boljagan",
      "userId": "03505259739820159249"
     },
     "user_tz": -330
    },
    "id": "97ff0916",
    "outputId": "0e4c0fa6-0be1-491a-92de-2565fa5d040f"
   },
   "outputs": [
    {
     "data": {
      "text/html": [
       "<div>\n",
       "<style scoped>\n",
       "    .dataframe tbody tr th:only-of-type {\n",
       "        vertical-align: middle;\n",
       "    }\n",
       "\n",
       "    .dataframe tbody tr th {\n",
       "        vertical-align: top;\n",
       "    }\n",
       "\n",
       "    .dataframe thead th {\n",
       "        text-align: right;\n",
       "    }\n",
       "</style>\n",
       "<table border=\"1\" class=\"dataframe\">\n",
       "  <thead>\n",
       "    <tr style=\"text-align: right;\">\n",
       "      <th></th>\n",
       "      <th>medical_specialty</th>\n",
       "      <th>transcription</th>\n",
       "      <th>tokenised</th>\n",
       "    </tr>\n",
       "  </thead>\n",
       "  <tbody>\n",
       "    <tr>\n",
       "      <th>2222</th>\n",
       "      <td>Neurosurgery</td>\n",
       "      <td>title of operation a complex closure and debridement of wound indication for surgery the patient is a 26 year old female with a long history of shunt and hydrocephalus presenting with a draining wound in the right upper quadrant just below the costal ...</td>\n",
       "      <td>[title, of, operation, a, complex, closure, and, debridement, of, wound, indication, for, surgery, the, patient, is, a, 26, year, old, female, with, a, long, history, of, shunt, and, hydrocephalus, presenting, with, a, draining, wound, in, the, right,...</td>\n",
       "    </tr>\n",
       "    <tr>\n",
       "      <th>2223</th>\n",
       "      <td>Neurosurgery</td>\n",
       "      <td>title of operation placement of right new ventriculoperitoneal vp shunts strata valve and to removal of right frontal ommaya reservoir indication for surgery the patient is a 2 month old infant born premature with intraventricular hemorrhage and ommay...</td>\n",
       "      <td>[title, of, operation, placement, of, right, new, ventriculoperitoneal, vp, shunts, strata, valve, and, to, removal, of, right, frontal, ommaya, reservoir, indication, for, surgery, the, patient, is, a, 2, month, old, infant, born, premature, with, in...</td>\n",
       "    </tr>\n",
       "    <tr>\n",
       "      <th>2224</th>\n",
       "      <td>Neurosurgery</td>\n",
       "      <td>preoperative diagnosis aqueductal stenosis postoperative diagnosis aqueductal stenosis title of procedure endoscopic third ventriculostomy anesthesia general endotracheal tube anesthesia devices bactiseal ventricular catheter with an aesculap burr hol...</td>\n",
       "      <td>[preoperative, diagnosis, aqueductal, stenosis, postoperative, diagnosis, aqueductal, stenosis, title, of, procedure, endoscopic, third, ventriculostomy, anesthesia, general, endotracheal, tube, anesthesia, devices, bactiseal, ventricular, catheter, w...</td>\n",
       "    </tr>\n",
       "  </tbody>\n",
       "</table>\n",
       "</div>"
      ],
      "text/plain": [
       "     medical_specialty  \\\n",
       "2222      Neurosurgery   \n",
       "2223      Neurosurgery   \n",
       "2224      Neurosurgery   \n",
       "\n",
       "                                                                                                                                                                                                                                                       transcription  \\\n",
       "2222  title of operation a complex closure and debridement of wound indication for surgery the patient is a 26 year old female with a long history of shunt and hydrocephalus presenting with a draining wound in the right upper quadrant just below the costal ...   \n",
       "2223  title of operation placement of right new ventriculoperitoneal vp shunts strata valve and to removal of right frontal ommaya reservoir indication for surgery the patient is a 2 month old infant born premature with intraventricular hemorrhage and ommay...   \n",
       "2224  preoperative diagnosis aqueductal stenosis postoperative diagnosis aqueductal stenosis title of procedure endoscopic third ventriculostomy anesthesia general endotracheal tube anesthesia devices bactiseal ventricular catheter with an aesculap burr hol...   \n",
       "\n",
       "                                                                                                                                                                                                                                                           tokenised  \n",
       "2222  [title, of, operation, a, complex, closure, and, debridement, of, wound, indication, for, surgery, the, patient, is, a, 26, year, old, female, with, a, long, history, of, shunt, and, hydrocephalus, presenting, with, a, draining, wound, in, the, right,...  \n",
       "2223  [title, of, operation, placement, of, right, new, ventriculoperitoneal, vp, shunts, strata, valve, and, to, removal, of, right, frontal, ommaya, reservoir, indication, for, surgery, the, patient, is, a, 2, month, old, infant, born, premature, with, in...  \n",
       "2224  [preoperative, diagnosis, aqueductal, stenosis, postoperative, diagnosis, aqueductal, stenosis, title, of, procedure, endoscopic, third, ventriculostomy, anesthesia, general, endotracheal, tube, anesthesia, devices, bactiseal, ventricular, catheter, w...  "
      ]
     },
     "execution_count": 25,
     "metadata": {},
     "output_type": "execute_result"
    }
   ],
   "source": [
    "# to tokenise transcription\n",
    "\n",
    "# import nltk\n",
    "tk =WhitespaceTokenizer()\n",
    "def tokenise(df, attribute):\n",
    "    df['tokenised'] = df.apply(lambda row: tk.tokenize(str(row[attribute])), axis=1)\n",
    "    return df\n",
    "df =tokenise(df, 'transcription')\n",
    "df_experiment =df.copy()\n",
    "df.head(3)"
   ]
  },
  {
   "cell_type": "markdown",
   "id": "0620897e",
   "metadata": {
    "id": "0620897e"
   },
   "source": [
    "# <b>2.4 <span style='color:red'>|</span> Stemming </b> <a class=\"anchor\" id=\"2.4\"></a>"
   ]
  },
  {
   "cell_type": "code",
   "execution_count": 27,
   "id": "4900e6d8",
   "metadata": {
    "colab": {
     "base_uri": "https://localhost:8080/",
     "height": 372
    },
    "executionInfo": {
     "elapsed": 2213,
     "status": "ok",
     "timestamp": 1726893794555,
     "user": {
      "displayName": "boljagan",
      "userId": "03505259739820159249"
     },
     "user_tz": -330
    },
    "id": "4900e6d8",
    "outputId": "ebabf415-66f6-401c-95c1-17aaf942efd8"
   },
   "outputs": [
    {
     "data": {
      "text/html": [
       "<div>\n",
       "<style scoped>\n",
       "    .dataframe tbody tr th:only-of-type {\n",
       "        vertical-align: middle;\n",
       "    }\n",
       "\n",
       "    .dataframe tbody tr th {\n",
       "        vertical-align: top;\n",
       "    }\n",
       "\n",
       "    .dataframe thead th {\n",
       "        text-align: right;\n",
       "    }\n",
       "</style>\n",
       "<table border=\"1\" class=\"dataframe\">\n",
       "  <thead>\n",
       "    <tr style=\"text-align: right;\">\n",
       "      <th></th>\n",
       "      <th>medical_specialty</th>\n",
       "      <th>transcription</th>\n",
       "      <th>tokenised</th>\n",
       "      <th>stemmed</th>\n",
       "    </tr>\n",
       "  </thead>\n",
       "  <tbody>\n",
       "    <tr>\n",
       "      <th>2222</th>\n",
       "      <td>Neurosurgery</td>\n",
       "      <td>title of operation a complex closure and debridement of wound indication for surgery the patient is a 26 year old female with a long history of shunt and hydrocephalus presenting with a draining wound in the right upper quadrant just below the costal ...</td>\n",
       "      <td>[title, of, operation, a, complex, closure, and, debridement, of, wound, indication, for, surgery, the, patient, is, a, 26, year, old, female, with, a, long, history, of, shunt, and, hydrocephalus, presenting, with, a, draining, wound, in, the, right,...</td>\n",
       "      <td>[titl, of, oper, a, complex, closur, and, debrid, of, wound, indic, for, surgeri, the, patient, is, a, 26, year, old, femal, with, a, long, histori, of, shunt, and, hydrocephalus, present, with, a, drain, wound, in, the, right, upper, quadrant, just, ...</td>\n",
       "    </tr>\n",
       "    <tr>\n",
       "      <th>2223</th>\n",
       "      <td>Neurosurgery</td>\n",
       "      <td>title of operation placement of right new ventriculoperitoneal vp shunts strata valve and to removal of right frontal ommaya reservoir indication for surgery the patient is a 2 month old infant born premature with intraventricular hemorrhage and ommay...</td>\n",
       "      <td>[title, of, operation, placement, of, right, new, ventriculoperitoneal, vp, shunts, strata, valve, and, to, removal, of, right, frontal, ommaya, reservoir, indication, for, surgery, the, patient, is, a, 2, month, old, infant, born, premature, with, in...</td>\n",
       "      <td>[titl, of, oper, placement, of, right, new, ventriculoperiton, vp, shunt, strata, valv, and, to, remov, of, right, frontal, ommaya, reservoir, indic, for, surgeri, the, patient, is, a, 2, month, old, infant, born, prematur, with, intraventricular, hem...</td>\n",
       "    </tr>\n",
       "  </tbody>\n",
       "</table>\n",
       "</div>"
      ],
      "text/plain": [
       "     medical_specialty  \\\n",
       "2222      Neurosurgery   \n",
       "2223      Neurosurgery   \n",
       "\n",
       "                                                                                                                                                                                                                                                       transcription  \\\n",
       "2222  title of operation a complex closure and debridement of wound indication for surgery the patient is a 26 year old female with a long history of shunt and hydrocephalus presenting with a draining wound in the right upper quadrant just below the costal ...   \n",
       "2223  title of operation placement of right new ventriculoperitoneal vp shunts strata valve and to removal of right frontal ommaya reservoir indication for surgery the patient is a 2 month old infant born premature with intraventricular hemorrhage and ommay...   \n",
       "\n",
       "                                                                                                                                                                                                                                                           tokenised  \\\n",
       "2222  [title, of, operation, a, complex, closure, and, debridement, of, wound, indication, for, surgery, the, patient, is, a, 26, year, old, female, with, a, long, history, of, shunt, and, hydrocephalus, presenting, with, a, draining, wound, in, the, right,...   \n",
       "2223  [title, of, operation, placement, of, right, new, ventriculoperitoneal, vp, shunts, strata, valve, and, to, removal, of, right, frontal, ommaya, reservoir, indication, for, surgery, the, patient, is, a, 2, month, old, infant, born, premature, with, in...   \n",
       "\n",
       "                                                                                                                                                                                                                                                             stemmed  \n",
       "2222  [titl, of, oper, a, complex, closur, and, debrid, of, wound, indic, for, surgeri, the, patient, is, a, 26, year, old, femal, with, a, long, histori, of, shunt, and, hydrocephalus, present, with, a, drain, wound, in, the, right, upper, quadrant, just, ...  \n",
       "2223  [titl, of, oper, placement, of, right, new, ventriculoperiton, vp, shunt, strata, valv, and, to, remov, of, right, frontal, ommaya, reservoir, indic, for, surgeri, the, patient, is, a, 2, month, old, infant, born, prematur, with, intraventricular, hem...  "
      ]
     },
     "execution_count": 27,
     "metadata": {},
     "output_type": "execute_result"
    }
   ],
   "source": [
    "from nltk.stem.snowball import SnowballStemmer\n",
    "def stemming(df, attribute):\n",
    "    # Use English stemmer.\n",
    "    stemmer = SnowballStemmer(\"english\")\n",
    "    df['stemmed'] = df[attribute].apply(lambda x: [stemmer.stem(y) for y in x]) # Stem every word.\n",
    "    return df\n",
    "df =stemming(df_experiment, 'tokenised')\n",
    "df.head(2)"
   ]
  },
  {
   "cell_type": "markdown",
   "id": "9fa3b998",
   "metadata": {
    "id": "9fa3b998"
   },
   "source": [
    "# <b>2.5 <span style='color:red'>|</span> Stop Words Removal </b> <a class=\"anchor\" id=\"2.5\"></a>\n",
    "\n",
    "\n",
    "Removing stop words from the feature space, otherwise it will affect the classifier performance as the collection frequency is often high"
   ]
  },
  {
   "cell_type": "code",
   "execution_count": 29,
   "id": "qBn3u4gsbrCI",
   "metadata": {
    "colab": {
     "base_uri": "https://localhost:8080/"
    },
    "executionInfo": {
     "elapsed": 4396,
     "status": "ok",
     "timestamp": 1726893802398,
     "user": {
      "displayName": "boljagan",
      "userId": "03505259739820159249"
     },
     "user_tz": -330
    },
    "id": "qBn3u4gsbrCI",
    "outputId": "f8c2c82e-dc64-4b7d-90d7-ad84aefa6213"
   },
   "outputs": [
    {
     "name": "stdout",
     "output_type": "stream",
     "text": [
      "Requirement already satisfied: nltk in c:\\users\\mic lab\\anaconda3\\lib\\site-packages (3.8.1)\n",
      "Requirement already satisfied: click in c:\\users\\mic lab\\anaconda3\\lib\\site-packages (from nltk) (8.1.7)\n",
      "Requirement already satisfied: joblib in c:\\users\\mic lab\\anaconda3\\lib\\site-packages (from nltk) (1.4.2)\n",
      "Requirement already satisfied: regex>=2021.8.3 in c:\\users\\mic lab\\anaconda3\\lib\\site-packages (from nltk) (2023.10.3)\n",
      "Requirement already satisfied: tqdm in c:\\users\\mic lab\\anaconda3\\lib\\site-packages (from nltk) (4.66.4)\n",
      "Requirement already satisfied: colorama in c:\\users\\mic lab\\anaconda3\\lib\\site-packages (from click->nltk) (0.4.6)\n"
     ]
    },
    {
     "name": "stderr",
     "output_type": "stream",
     "text": [
      "[nltk_data] Downloading package stopwords to C:\\Users\\MIC\n",
      "[nltk_data]     LAB\\AppData\\Roaming\\nltk_data...\n",
      "[nltk_data]   Unzipping corpora\\stopwords.zip.\n"
     ]
    },
    {
     "data": {
      "text/plain": [
       "True"
      ]
     },
     "execution_count": 29,
     "metadata": {},
     "output_type": "execute_result"
    }
   ],
   "source": [
    "!pip install nltk\n",
    "import nltk\n",
    "nltk.download('stopwords')"
   ]
  },
  {
   "cell_type": "code",
   "execution_count": 30,
   "id": "183d17d5",
   "metadata": {
    "colab": {
     "base_uri": "https://localhost:8080/"
    },
    "executionInfo": {
     "elapsed": 500,
     "status": "ok",
     "timestamp": 1726893912645,
     "user": {
      "displayName": "boljagan",
      "userId": "03505259739820159249"
     },
     "user_tz": -330
    },
    "id": "183d17d5",
    "outputId": "9ce67998-030e-4ddd-c9d1-aba891dea73d"
   },
   "outputs": [
    {
     "name": "stdout",
     "output_type": "stream",
     "text": [
      "There are 179 stop words \n",
      "\n",
      "['i', 'me', 'my', 'myself', 'we', 'our', 'ours', 'ourselves', 'you', \"you're\", \"you've\", \"you'll\", \"you'd\", 'your', 'yours', 'yourself', 'yourselves', 'he', 'him', 'his', 'himself', 'she', \"she's\", 'her', 'hers', 'herself', 'it', \"it's\", 'its', 'itself', 'they', 'them', 'their', 'theirs', 'themselves', 'what', 'which', 'who', 'whom', 'this', 'that', \"that'll\", 'these', 'those', 'am', 'is', 'are', 'was', 'were', 'be', 'been', 'being', 'have', 'has', 'had', 'having', 'do', 'does', 'did', 'doing', 'a', 'an', 'the', 'and', 'but', 'if', 'or', 'because', 'as', 'until', 'while', 'of', 'at', 'by', 'for', 'with', 'about', 'against', 'between', 'into', 'through', 'during', 'before', 'after', 'above', 'below', 'to', 'from', 'up', 'down', 'in', 'out', 'on', 'off', 'over', 'under', 'again', 'further', 'then', 'once', 'here', 'there', 'when', 'where', 'why', 'how', 'all', 'any', 'both', 'each', 'few', 'more', 'most', 'other', 'some', 'such', 'no', 'nor', 'not', 'only', 'own', 'same', 'so', 'than', 'too', 'very', 's', 't', 'can', 'will', 'just', 'don', \"don't\", 'should', \"should've\", 'now', 'd', 'll', 'm', 'o', 're', 've', 'y', 'ain', 'aren', \"aren't\", 'couldn', \"couldn't\", 'didn', \"didn't\", 'doesn', \"doesn't\", 'hadn', \"hadn't\", 'hasn', \"hasn't\", 'haven', \"haven't\", 'isn', \"isn't\", 'ma', 'mightn', \"mightn't\", 'mustn', \"mustn't\", 'needn', \"needn't\", 'shan', \"shan't\", 'shouldn', \"shouldn't\", 'wasn', \"wasn't\", 'weren', \"weren't\", 'won', \"won't\", 'wouldn', \"wouldn't\"]\n"
     ]
    }
   ],
   "source": [
    "# Showing the list of the English stop words, it has a number of 179 stop words in this list\n",
    "\n",
    "stop = stopwords.words('english')\n",
    "print(f\"There are {len(stop)} stop words \\n\")\n",
    "print(stop)"
   ]
  },
  {
   "cell_type": "code",
   "execution_count": 31,
   "id": "fba95fc0",
   "metadata": {
    "colab": {
     "base_uri": "https://localhost:8080/",
     "height": 546
    },
    "executionInfo": {
     "elapsed": 662,
     "status": "ok",
     "timestamp": 1726893920576,
     "user": {
      "displayName": "boljagan",
      "userId": "03505259739820159249"
     },
     "user_tz": -330
    },
    "id": "fba95fc0",
    "outputId": "af29e9fd-d9d7-468c-dbe7-fc419366b245"
   },
   "outputs": [
    {
     "data": {
      "text/html": [
       "<div>\n",
       "<style scoped>\n",
       "    .dataframe tbody tr th:only-of-type {\n",
       "        vertical-align: middle;\n",
       "    }\n",
       "\n",
       "    .dataframe tbody tr th {\n",
       "        vertical-align: top;\n",
       "    }\n",
       "\n",
       "    .dataframe thead th {\n",
       "        text-align: right;\n",
       "    }\n",
       "</style>\n",
       "<table border=\"1\" class=\"dataframe\">\n",
       "  <thead>\n",
       "    <tr style=\"text-align: right;\">\n",
       "      <th></th>\n",
       "      <th>medical_specialty</th>\n",
       "      <th>transcription</th>\n",
       "      <th>tokenised</th>\n",
       "      <th>stemmed</th>\n",
       "      <th>stemmed_without_stop</th>\n",
       "    </tr>\n",
       "  </thead>\n",
       "  <tbody>\n",
       "    <tr>\n",
       "      <th>2222</th>\n",
       "      <td>Neurosurgery</td>\n",
       "      <td>title of operation a complex closure and debridement of wound indication for surgery the patient is a 26 year old female with a long history of shunt and hydrocephalus presenting with a draining wound in the right upper quadrant just below the costal ...</td>\n",
       "      <td>[title, of, operation, a, complex, closure, and, debridement, of, wound, indication, for, surgery, the, patient, is, a, 26, year, old, female, with, a, long, history, of, shunt, and, hydrocephalus, presenting, with, a, draining, wound, in, the, right,...</td>\n",
       "      <td>[titl, of, oper, a, complex, closur, and, debrid, of, wound, indic, for, surgeri, the, patient, is, a, 26, year, old, femal, with, a, long, histori, of, shunt, and, hydrocephalus, present, with, a, drain, wound, in, the, right, upper, quadrant, just, ...</td>\n",
       "      <td>titl oper complex closur debrid wound indic surgeri patient 26 year old femal long histori shunt hydrocephalus present drain wound right upper quadrant costal margin lanc general surgeri resolv howev continu drain evid fever crp normal shunt ct normal...</td>\n",
       "    </tr>\n",
       "    <tr>\n",
       "      <th>2223</th>\n",
       "      <td>Neurosurgery</td>\n",
       "      <td>title of operation placement of right new ventriculoperitoneal vp shunts strata valve and to removal of right frontal ommaya reservoir indication for surgery the patient is a 2 month old infant born premature with intraventricular hemorrhage and ommay...</td>\n",
       "      <td>[title, of, operation, placement, of, right, new, ventriculoperitoneal, vp, shunts, strata, valve, and, to, removal, of, right, frontal, ommaya, reservoir, indication, for, surgery, the, patient, is, a, 2, month, old, infant, born, premature, with, in...</td>\n",
       "      <td>[titl, of, oper, placement, of, right, new, ventriculoperiton, vp, shunt, strata, valv, and, to, remov, of, right, frontal, ommaya, reservoir, indic, for, surgeri, the, patient, is, a, 2, month, old, infant, born, prematur, with, intraventricular, hem...</td>\n",
       "      <td>titl oper placement right new ventriculoperiton vp shunt strata valv remov right frontal ommaya reservoir indic surgeri patient 2 month old infant born prematur intraventricular hemorrhag ommaya reservoir recommend remov replac new vp shunt preop diag...</td>\n",
       "    </tr>\n",
       "  </tbody>\n",
       "</table>\n",
       "</div>"
      ],
      "text/plain": [
       "     medical_specialty  \\\n",
       "2222      Neurosurgery   \n",
       "2223      Neurosurgery   \n",
       "\n",
       "                                                                                                                                                                                                                                                       transcription  \\\n",
       "2222  title of operation a complex closure and debridement of wound indication for surgery the patient is a 26 year old female with a long history of shunt and hydrocephalus presenting with a draining wound in the right upper quadrant just below the costal ...   \n",
       "2223  title of operation placement of right new ventriculoperitoneal vp shunts strata valve and to removal of right frontal ommaya reservoir indication for surgery the patient is a 2 month old infant born premature with intraventricular hemorrhage and ommay...   \n",
       "\n",
       "                                                                                                                                                                                                                                                           tokenised  \\\n",
       "2222  [title, of, operation, a, complex, closure, and, debridement, of, wound, indication, for, surgery, the, patient, is, a, 26, year, old, female, with, a, long, history, of, shunt, and, hydrocephalus, presenting, with, a, draining, wound, in, the, right,...   \n",
       "2223  [title, of, operation, placement, of, right, new, ventriculoperitoneal, vp, shunts, strata, valve, and, to, removal, of, right, frontal, ommaya, reservoir, indication, for, surgery, the, patient, is, a, 2, month, old, infant, born, premature, with, in...   \n",
       "\n",
       "                                                                                                                                                                                                                                                             stemmed  \\\n",
       "2222  [titl, of, oper, a, complex, closur, and, debrid, of, wound, indic, for, surgeri, the, patient, is, a, 26, year, old, femal, with, a, long, histori, of, shunt, and, hydrocephalus, present, with, a, drain, wound, in, the, right, upper, quadrant, just, ...   \n",
       "2223  [titl, of, oper, placement, of, right, new, ventriculoperiton, vp, shunt, strata, valv, and, to, remov, of, right, frontal, ommaya, reservoir, indic, for, surgeri, the, patient, is, a, 2, month, old, infant, born, prematur, with, intraventricular, hem...   \n",
       "\n",
       "                                                                                                                                                                                                                                                stemmed_without_stop  \n",
       "2222  titl oper complex closur debrid wound indic surgeri patient 26 year old femal long histori shunt hydrocephalus present drain wound right upper quadrant costal margin lanc general surgeri resolv howev continu drain evid fever crp normal shunt ct normal...  \n",
       "2223  titl oper placement right new ventriculoperiton vp shunt strata valv remov right frontal ommaya reservoir indic surgeri patient 2 month old infant born prematur intraventricular hemorrhag ommaya reservoir recommend remov replac new vp shunt preop diag...  "
      ]
     },
     "execution_count": 31,
     "metadata": {},
     "output_type": "execute_result"
    }
   ],
   "source": [
    "# Removing stop words\n",
    "def remove_stop_words(df, attribute):\n",
    "    stop = stopwords.words('english')\n",
    "    df['stemmed_without_stop'] = df[attribute].apply(lambda x: ' '.join([word for word in x if word not in (stop)]))\n",
    "    return df\n",
    "df = remove_stop_words(df, 'stemmed')\n",
    "df.head(2)"
   ]
  },
  {
   "cell_type": "markdown",
   "id": "fb5c62e1",
   "metadata": {
    "id": "fb5c62e1"
   },
   "source": [
    "After the 5 data normalisation steps, each transcription record is now in a standard format, which is ready for the n-gram features extraction later. Hence, we should use the attribute 'stemmed_withou_stop' as the predictor attribute and drop other redundant attributes, namely 'transcription', 'tokenized_transcription' and 'stemmed'."
   ]
  },
  {
   "cell_type": "code",
   "execution_count": 33,
   "id": "5ba43795",
   "metadata": {
    "colab": {
     "base_uri": "https://localhost:8080/",
     "height": 380
    },
    "executionInfo": {
     "elapsed": 535,
     "status": "ok",
     "timestamp": 1726893930321,
     "user": {
      "displayName": "boljagan",
      "userId": "03505259739820159249"
     },
     "user_tz": -330
    },
    "id": "5ba43795",
    "outputId": "fe7e77b6-95ad-4787-bbb1-5dc1a24c1af8"
   },
   "outputs": [
    {
     "data": {
      "text/html": [
       "<div>\n",
       "<style scoped>\n",
       "    .dataframe tbody tr th:only-of-type {\n",
       "        vertical-align: middle;\n",
       "    }\n",
       "\n",
       "    .dataframe tbody tr th {\n",
       "        vertical-align: top;\n",
       "    }\n",
       "\n",
       "    .dataframe thead th {\n",
       "        text-align: right;\n",
       "    }\n",
       "</style>\n",
       "<table border=\"1\" class=\"dataframe\">\n",
       "  <thead>\n",
       "    <tr style=\"text-align: right;\">\n",
       "      <th></th>\n",
       "      <th>medical_specialty</th>\n",
       "      <th>stemmed_without_stop</th>\n",
       "    </tr>\n",
       "  </thead>\n",
       "  <tbody>\n",
       "    <tr>\n",
       "      <th>2222</th>\n",
       "      <td>Neurosurgery</td>\n",
       "      <td>titl oper complex closur debrid wound indic surgeri patient 26 year old femal long histori shunt hydrocephalus present drain wound right upper quadrant costal margin lanc general surgeri resolv howev continu drain evid fever crp normal shunt ct normal...</td>\n",
       "    </tr>\n",
       "    <tr>\n",
       "      <th>2223</th>\n",
       "      <td>Neurosurgery</td>\n",
       "      <td>titl oper placement right new ventriculoperiton vp shunt strata valv remov right frontal ommaya reservoir indic surgeri patient 2 month old infant born prematur intraventricular hemorrhag ommaya reservoir recommend remov replac new vp shunt preop diag...</td>\n",
       "    </tr>\n",
       "    <tr>\n",
       "      <th>2224</th>\n",
       "      <td>Neurosurgery</td>\n",
       "      <td>preoper diagnosi aqueduct stenosi postop diagnosi aqueduct stenosi titl procedur endoscop third ventriculostomi anesthesia general endotrach tube anesthesia devic bactis ventricular cathet aesculap burr hole port skin prepar chloraprep complic none sp...</td>\n",
       "    </tr>\n",
       "    <tr>\n",
       "      <th>2227</th>\n",
       "      <td>Neurosurgery</td>\n",
       "      <td>procedur placement left ventriculostomi via twist drill preoper diagnosi massiv intraventricular hemorrhag hydrocephalus increas intracrani pressur postop diagnosi massiv intraventricular hemorrhag hydrocephalus increas intracrani pressur indic proced...</td>\n",
       "    </tr>\n",
       "    <tr>\n",
       "      <th>2228</th>\n",
       "      <td>Neurosurgery</td>\n",
       "      <td>preoper diagnos increas intracrani pressur cerebr edema due sever brain injuri postop diagnos increas intracrani pressur cerebr edema due sever brain injuri procedur burr hole insert extern ventricular drain cathet anesthesia bedsid sedat procedur sca...</td>\n",
       "    </tr>\n",
       "  </tbody>\n",
       "</table>\n",
       "</div>"
      ],
      "text/plain": [
       "     medical_specialty  \\\n",
       "2222      Neurosurgery   \n",
       "2223      Neurosurgery   \n",
       "2224      Neurosurgery   \n",
       "2227      Neurosurgery   \n",
       "2228      Neurosurgery   \n",
       "\n",
       "                                                                                                                                                                                                                                                stemmed_without_stop  \n",
       "2222  titl oper complex closur debrid wound indic surgeri patient 26 year old femal long histori shunt hydrocephalus present drain wound right upper quadrant costal margin lanc general surgeri resolv howev continu drain evid fever crp normal shunt ct normal...  \n",
       "2223  titl oper placement right new ventriculoperiton vp shunt strata valv remov right frontal ommaya reservoir indic surgeri patient 2 month old infant born prematur intraventricular hemorrhag ommaya reservoir recommend remov replac new vp shunt preop diag...  \n",
       "2224  preoper diagnosi aqueduct stenosi postop diagnosi aqueduct stenosi titl procedur endoscop third ventriculostomi anesthesia general endotrach tube anesthesia devic bactis ventricular cathet aesculap burr hole port skin prepar chloraprep complic none sp...  \n",
       "2227  procedur placement left ventriculostomi via twist drill preoper diagnosi massiv intraventricular hemorrhag hydrocephalus increas intracrani pressur postop diagnosi massiv intraventricular hemorrhag hydrocephalus increas intracrani pressur indic proced...  \n",
       "2228  preoper diagnos increas intracrani pressur cerebr edema due sever brain injuri postop diagnos increas intracrani pressur cerebr edema due sever brain injuri procedur burr hole insert extern ventricular drain cathet anesthesia bedsid sedat procedur sca...  "
      ]
     },
     "execution_count": 33,
     "metadata": {},
     "output_type": "execute_result"
    }
   ],
   "source": [
    "df =df.drop(['transcription','stemmed', 'tokenised'], axis=1)\n",
    "df.head()"
   ]
  },
  {
   "cell_type": "code",
   "execution_count": 34,
   "id": "3fe965aa",
   "metadata": {
    "colab": {
     "base_uri": "https://localhost:8080/"
    },
    "executionInfo": {
     "elapsed": 575,
     "status": "ok",
     "timestamp": 1726893933590,
     "user": {
      "displayName": "boljagan",
      "userId": "03505259739820159249"
     },
     "user_tz": -330
    },
    "id": "3fe965aa",
    "outputId": "bc727b49-4fc1-4fab-9742-56c8d6e295b1"
   },
   "outputs": [
    {
     "name": "stdout",
     "output_type": "stream",
     "text": [
      "The word count of transcription after normalised is: 75652\n",
      "35.29% less word\n"
     ]
    }
   ],
   "source": [
    "total_word_count_normalised = df['stemmed_without_stop'].str.split().str.len().sum()\n",
    "print(f'The word count of transcription after normalised is: {int(total_word_count_normalised)}')\n",
    "print(f'{round((total_word_count - total_word_count_normalised)/total_word_count*100, 2)}% less word')"
   ]
  },
  {
   "cell_type": "code",
   "execution_count": 35,
   "id": "7ee85eaf",
   "metadata": {
    "colab": {
     "base_uri": "https://localhost:8080/",
     "height": 467
    },
    "executionInfo": {
     "elapsed": 517,
     "status": "ok",
     "timestamp": 1726893938070,
     "user": {
      "displayName": "boljagan",
      "userId": "03505259739820159249"
     },
     "user_tz": -330
    },
    "id": "7ee85eaf",
    "outputId": "5d3af719-8bc9-4c6b-9a0d-0dc47f3045a9"
   },
   "outputs": [
    {
     "data": {
      "text/html": [
       "<div>\n",
       "<style scoped>\n",
       "    .dataframe tbody tr th:only-of-type {\n",
       "        vertical-align: middle;\n",
       "    }\n",
       "\n",
       "    .dataframe tbody tr th {\n",
       "        vertical-align: top;\n",
       "    }\n",
       "\n",
       "    .dataframe thead th {\n",
       "        text-align: right;\n",
       "    }\n",
       "</style>\n",
       "<table border=\"1\" class=\"dataframe\">\n",
       "  <thead>\n",
       "    <tr style=\"text-align: right;\">\n",
       "      <th></th>\n",
       "      <th>medical_specialty</th>\n",
       "      <th>stemmed_without_stop</th>\n",
       "      <th>encoded_target</th>\n",
       "    </tr>\n",
       "  </thead>\n",
       "  <tbody>\n",
       "    <tr>\n",
       "      <th>2222</th>\n",
       "      <td>Neurosurgery</td>\n",
       "      <td>titl oper complex closur debrid wound indic surgeri patient 26 year old femal long histori shunt hydrocephalus present drain wound right upper quadrant costal margin lanc general surgeri resolv howev continu drain evid fever crp normal shunt ct normal...</td>\n",
       "      <td>2</td>\n",
       "    </tr>\n",
       "    <tr>\n",
       "      <th>2223</th>\n",
       "      <td>Neurosurgery</td>\n",
       "      <td>titl oper placement right new ventriculoperiton vp shunt strata valv remov right frontal ommaya reservoir indic surgeri patient 2 month old infant born prematur intraventricular hemorrhag ommaya reservoir recommend remov replac new vp shunt preop diag...</td>\n",
       "      <td>2</td>\n",
       "    </tr>\n",
       "    <tr>\n",
       "      <th>2224</th>\n",
       "      <td>Neurosurgery</td>\n",
       "      <td>preoper diagnosi aqueduct stenosi postop diagnosi aqueduct stenosi titl procedur endoscop third ventriculostomi anesthesia general endotrach tube anesthesia devic bactis ventricular cathet aesculap burr hole port skin prepar chloraprep complic none sp...</td>\n",
       "      <td>2</td>\n",
       "    </tr>\n",
       "    <tr>\n",
       "      <th>2227</th>\n",
       "      <td>Neurosurgery</td>\n",
       "      <td>procedur placement left ventriculostomi via twist drill preoper diagnosi massiv intraventricular hemorrhag hydrocephalus increas intracrani pressur postop diagnosi massiv intraventricular hemorrhag hydrocephalus increas intracrani pressur indic proced...</td>\n",
       "      <td>2</td>\n",
       "    </tr>\n",
       "    <tr>\n",
       "      <th>2228</th>\n",
       "      <td>Neurosurgery</td>\n",
       "      <td>preoper diagnos increas intracrani pressur cerebr edema due sever brain injuri postop diagnos increas intracrani pressur cerebr edema due sever brain injuri procedur burr hole insert extern ventricular drain cathet anesthesia bedsid sedat procedur sca...</td>\n",
       "      <td>2</td>\n",
       "    </tr>\n",
       "  </tbody>\n",
       "</table>\n",
       "</div>"
      ],
      "text/plain": [
       "     medical_specialty  \\\n",
       "2222      Neurosurgery   \n",
       "2223      Neurosurgery   \n",
       "2224      Neurosurgery   \n",
       "2227      Neurosurgery   \n",
       "2228      Neurosurgery   \n",
       "\n",
       "                                                                                                                                                                                                                                                stemmed_without_stop  \\\n",
       "2222  titl oper complex closur debrid wound indic surgeri patient 26 year old femal long histori shunt hydrocephalus present drain wound right upper quadrant costal margin lanc general surgeri resolv howev continu drain evid fever crp normal shunt ct normal...   \n",
       "2223  titl oper placement right new ventriculoperiton vp shunt strata valv remov right frontal ommaya reservoir indic surgeri patient 2 month old infant born prematur intraventricular hemorrhag ommaya reservoir recommend remov replac new vp shunt preop diag...   \n",
       "2224  preoper diagnosi aqueduct stenosi postop diagnosi aqueduct stenosi titl procedur endoscop third ventriculostomi anesthesia general endotrach tube anesthesia devic bactis ventricular cathet aesculap burr hole port skin prepar chloraprep complic none sp...   \n",
       "2227  procedur placement left ventriculostomi via twist drill preoper diagnosi massiv intraventricular hemorrhag hydrocephalus increas intracrani pressur postop diagnosi massiv intraventricular hemorrhag hydrocephalus increas intracrani pressur indic proced...   \n",
       "2228  preoper diagnos increas intracrani pressur cerebr edema due sever brain injuri postop diagnos increas intracrani pressur cerebr edema due sever brain injuri procedur burr hole insert extern ventricular drain cathet anesthesia bedsid sedat procedur sca...   \n",
       "\n",
       "      encoded_target  \n",
       "2222               2  \n",
       "2223               2  \n",
       "2224               2  \n",
       "2227               2  \n",
       "2228               2  "
      ]
     },
     "execution_count": 35,
     "metadata": {},
     "output_type": "execute_result"
    }
   ],
   "source": [
    "le = preprocessing.LabelEncoder()\n",
    "le.fit(df['medical_specialty'])\n",
    "df['encoded_target'] = le.transform(df['medical_specialty'])\n",
    "df.head()"
   ]
  },
  {
   "cell_type": "markdown",
   "id": "e02fae1a",
   "metadata": {
    "id": "e02fae1a"
   },
   "source": [
    "# <b>3.0 <span style='color:red'>|</span> Text N-Gram Feature Extraction </b> <a class=\"anchor\" id=\"3.0\"></a>"
   ]
  },
  {
   "cell_type": "markdown",
   "id": "4c8b40dc",
   "metadata": {
    "id": "4c8b40dc"
   },
   "source": [
    "We will use sklearn class 'CountVectoriser' to extract different n-grams features. In order to do so, the transcription should be converted into a list format, rather than a dataframe. For the purpose of converting into a flat list (i.e., there is no inner list), the function of 'flat_list' that defined above is used."
   ]
  },
  {
   "cell_type": "code",
   "execution_count": 38,
   "id": "bc2b4b27",
   "metadata": {
    "id": "bc2b4b27"
   },
   "outputs": [],
   "source": [
    "# function to flatten one list\n",
    "def flat_list(unflat_list):\n",
    "    flatted = [item for sublist in unflat_list for item in sublist]\n",
    "    return flatted\n",
    "\n",
    "def to_list(df, attribute):\n",
    "    # Select the normalised transcript column\n",
    "    df_transcription = df[[attribute]]\n",
    "    # To convert the attribute into list format, but it has inner list. So it cannot put into the CountVectoriser\n",
    "    unflat_list_transcription = df_transcription.values.tolist()\n",
    "    # Let's use back the function defined above, \"flat_list\", to flatten the list\n",
    "    flat_list_transcription = flat_list(unflat_list_transcription)\n",
    "    return flat_list_transcription\n",
    "flat_list_transcription = to_list(df, 'stemmed_without_stop')"
   ]
  },
  {
   "cell_type": "markdown",
   "id": "a9bf7e79",
   "metadata": {
    "id": "a9bf7e79"
   },
   "source": [
    "# <b>3.1 <span style='color:red'>|</span> Extract 5 Types of N-Gram </b> <a class=\"anchor\" id=\"3.1\"></a>\n"
   ]
  },
  {
   "cell_type": "markdown",
   "id": "d99ef2a5",
   "metadata": {
    "id": "d99ef2a5"
   },
   "source": [
    "CountVectorizer is used to convert a collection of transcript documents to a matrix of n-gram features. To explain the ngram_range, all values of n such such that min_n <= n <= max_n will be used. For example an ngram_range of (1, 1) means only unigrams, (1, 2) means unigrams and bigrams, and (2, 2) means only bigrams."
   ]
  },
  {
   "cell_type": "code",
   "execution_count": 41,
   "id": "eb3a9f80",
   "metadata": {
    "colab": {
     "base_uri": "https://localhost:8080/"
    },
    "executionInfo": {
     "elapsed": 613,
     "status": "ok",
     "timestamp": 1726894133645,
     "user": {
      "displayName": "boljagan",
      "userId": "03505259739820159249"
     },
     "user_tz": -330
    },
    "id": "eb3a9f80",
    "outputId": "805f86c8-ca3d-4cf1-fa67-396e6273f001"
   },
   "outputs": [
    {
     "data": {
      "text/plain": [
       "['unigram', 'unigram_bigram', 'bigram', 'bigram_trigram', 'trigram']"
      ]
     },
     "execution_count": 41,
     "metadata": {},
     "output_type": "execute_result"
    }
   ],
   "source": [
    "n_gram_features ={'unigram':(1,1),'unigram_bigram':(1,2),'bigram':(2,2),\\\n",
    "       'bigram_trigram':(2,3),'trigram':(3,3)}\n",
    "feature_name=[]\n",
    "temp=[]\n",
    "for key, values in n_gram_features.items():\n",
    "    temp.append(key)\n",
    "    feature_name.append(key)\n",
    "temp"
   ]
  },
  {
   "cell_type": "code",
   "execution_count": 42,
   "id": "8d8b8aff",
   "metadata": {
    "id": "8d8b8aff"
   },
   "outputs": [],
   "source": [
    "def generate_n_gram_features(flat_list_transcription):\n",
    "    temp=[]\n",
    "    for key, values in n_gram_features.items():\n",
    "        vectorizer = CountVectorizer(ngram_range=values)\n",
    "        vectorizer.fit(flat_list_transcription)\n",
    "        temp.append(vectorizer.transform(flat_list_transcription))\n",
    "    return temp\n",
    "temp = generate_n_gram_features(flat_list_transcription)"
   ]
  },
  {
   "cell_type": "markdown",
   "id": "3dca585e",
   "metadata": {
    "id": "3dca585e"
   },
   "source": [
    "# <b>3.2 <span style='color:red'>|</span> Dimension of Each Feature Vector </b> <a class=\"anchor\" id=\"3.2\"></a>"
   ]
  },
  {
   "cell_type": "code",
   "execution_count": 44,
   "id": "85fcc606",
   "metadata": {
    "colab": {
     "base_uri": "https://localhost:8080/",
     "height": 206
    },
    "executionInfo": {
     "elapsed": 506,
     "status": "ok",
     "timestamp": 1726894601615,
     "user": {
      "displayName": "boljagan",
      "userId": "03505259739820159249"
     },
     "user_tz": -330
    },
    "id": "85fcc606",
    "outputId": "72e2bbdd-f5dd-4875-c228-291c6ed7e6b6"
   },
   "outputs": [
    {
     "data": {
      "text/html": [
       "<div>\n",
       "<style scoped>\n",
       "    .dataframe tbody tr th:only-of-type {\n",
       "        vertical-align: middle;\n",
       "    }\n",
       "\n",
       "    .dataframe tbody tr th {\n",
       "        vertical-align: top;\n",
       "    }\n",
       "\n",
       "    .dataframe thead th {\n",
       "        text-align: right;\n",
       "    }\n",
       "</style>\n",
       "<table border=\"1\" class=\"dataframe\">\n",
       "  <thead>\n",
       "    <tr style=\"text-align: right;\">\n",
       "      <th></th>\n",
       "      <th>N-Gram Feature Vector</th>\n",
       "      <th>Data Dimension</th>\n",
       "    </tr>\n",
       "  </thead>\n",
       "  <tbody>\n",
       "    <tr>\n",
       "      <th>0</th>\n",
       "      <td>unigram</td>\n",
       "      <td>(258, 5591)</td>\n",
       "    </tr>\n",
       "    <tr>\n",
       "      <th>1</th>\n",
       "      <td>unigram_bigram</td>\n",
       "      <td>(258, 49356)</td>\n",
       "    </tr>\n",
       "    <tr>\n",
       "      <th>2</th>\n",
       "      <td>bigram</td>\n",
       "      <td>(258, 43765)</td>\n",
       "    </tr>\n",
       "    <tr>\n",
       "      <th>3</th>\n",
       "      <td>bigram_trigram</td>\n",
       "      <td>(258, 103311)</td>\n",
       "    </tr>\n",
       "    <tr>\n",
       "      <th>4</th>\n",
       "      <td>trigram</td>\n",
       "      <td>(258, 59546)</td>\n",
       "    </tr>\n",
       "  </tbody>\n",
       "</table>\n",
       "</div>"
      ],
      "text/plain": [
       "  N-Gram Feature Vector Data Dimension\n",
       "0               unigram    (258, 5591)\n",
       "1        unigram_bigram   (258, 49356)\n",
       "2                bigram   (258, 43765)\n",
       "3        bigram_trigram  (258, 103311)\n",
       "4               trigram   (258, 59546)"
      ]
     },
     "execution_count": 44,
     "metadata": {},
     "output_type": "execute_result"
    }
   ],
   "source": [
    "dataframes = {'unigram':temp[0],\n",
    "              'unigram_bigram':temp[1],\n",
    "              'bigram':temp[2],\n",
    "              'bigram_trigram':temp[3],\n",
    "              'trigram':temp[4]}\n",
    "feature_vector = [] ; feature_vector_shape = []\n",
    "for key in dataframes:\n",
    "    feature_vector.append(key)\n",
    "    feature_vector_shape.append(dataframes[key].shape)\n",
    "\n",
    "n_gram_df = pd.DataFrame({'N-Gram Feature Vector':feature_vector, 'Data Dimension':feature_vector_shape})\n",
    "n_gram_df"
   ]
  },
  {
   "cell_type": "markdown",
   "id": "8cfbb57e",
   "metadata": {
    "id": "8cfbb57e"
   },
   "source": [
    "After the feature extraction process, 5 kinds of n-gram features are extracted. It is interesting to notice that when the number of 'n' getting higher (i.e, n=1:unigram, n=2:bigram, n=3:trigram), there is a higer number of columns. This is due to it is getting harder to find similar features that can be stored in similar column when it has a longer connected words as one featuer. If the feature is unique, it will automatically append additional column to store the feaure."
   ]
  },
  {
   "cell_type": "code",
   "execution_count": 46,
   "id": "a94677a0",
   "metadata": {
    "colab": {
     "base_uri": "https://localhost:8080/"
    },
    "executionInfo": {
     "elapsed": 498,
     "status": "ok",
     "timestamp": 1726894811921,
     "user": {
      "displayName": "boljagan",
      "userId": "03505259739820159249"
     },
     "user_tz": -330
    },
    "id": "a94677a0",
    "outputId": "8075592b-5ab1-41b7-a25e-5df1c9c8557e"
   },
   "outputs": [
    {
     "data": {
      "text/plain": [
       "<258x5591 sparse matrix of type '<class 'numpy.int64'>'\n",
       "\twith 43288 stored elements in Compressed Sparse Row format>"
      ]
     },
     "execution_count": 46,
     "metadata": {},
     "output_type": "execute_result"
    }
   ],
   "source": [
    "# to retrieve a unigram feature vector\n",
    "dataframes['unigram']"
   ]
  },
  {
   "cell_type": "markdown",
   "id": "46988189",
   "metadata": {
    "id": "46988189"
   },
   "source": [
    "# <b>4.0 <span style='color:red'>|</span> Text Classification Modelling </b> <a class=\"anchor\" id=\"4.0\"></a>"
   ]
  },
  {
   "cell_type": "code",
   "execution_count": 48,
   "id": "e3bd1ab0",
   "metadata": {
    "id": "e3bd1ab0"
   },
   "outputs": [],
   "source": [
    "from sklearn.metrics import accuracy_score,f1_score,precision_score,recall_score\n",
    "from sklearn.neighbors import KNeighborsClassifier\n",
    "from sklearn.model_selection import train_test_split\n",
    "import warnings\n",
    "from sklearn.experimental import enable_halving_search_cv  # noqa\n",
    "from sklearn.model_selection import HalvingGridSearchCV\n",
    "from sklearn.tree import DecisionTreeClassifier\n",
    "from sklearn.ensemble import RandomForestClassifier\n",
    "from sklearn.feature_selection import SelectFromModel\n",
    "from sklearn.decomposition import PCA\n",
    "from sklearn.metrics import classification_report\n",
    "\n",
    "warnings.filterwarnings('ignore')\n",
    "random_state_number =8888\n",
    "df_target =df[['encoded_target']].values.ravel()"
   ]
  },
  {
   "cell_type": "code",
   "execution_count": 49,
   "id": "cb4900c5",
   "metadata": {
    "id": "cb4900c5"
   },
   "outputs": [],
   "source": [
    "metrics = {\n",
    "    'f1':[f1_score, 'f1_macro'],\n",
    "    'precision': [precision_score, 'precision_macro'],\n",
    "    'recall': [recall_score, 'recall_macro']\n",
    "}\n",
    "\n",
    "# get evaluation result\n",
    "\n",
    "def get_performance(param_grid, base_estimator, dataframes):\n",
    "    df_name_list =[]; best_estimator_list=[]; best_score_list=[]; test_predict_result_list=[];\n",
    "    metric_list = [];\n",
    "\n",
    "    for df_name, df in dataframes.items():\n",
    "\n",
    "        X_train, X_test, y_train, y_test = train_test_split(df, df_target, test_size=0.2, random_state=random_state_number)\n",
    "        for _, metric_dict in metrics.items():\n",
    "            sh = HalvingGridSearchCV(base_estimator, param_grid, cv=5, scoring=metric_dict[1],random_state=random_state_number,\n",
    "                                      factor=2).fit(X_train, y_train)\n",
    "\n",
    "            best_estimator = sh.best_estimator_\n",
    "            clf = best_estimator.fit(X_train, y_train)\n",
    "            prediction = clf.predict(X_test)\n",
    "            test_predict_result = metric_dict[0](y_test, prediction, average='macro')\n",
    "\n",
    "            df_name_list.append(df_name) ; best_estimator_list.append(best_estimator) ;\n",
    "            best_score_list.append(sh.best_score_) ;\n",
    "            test_predict_result_list.append(test_predict_result) ;metric_list.append(metric_dict[1])\n",
    "\n",
    "\n",
    "    model_result = pd.DataFrame({'Vector':df_name_list,'Metric':metric_list,\n",
    "                               'Calibrated Estimator':best_estimator_list,\n",
    "                               'Best CV Metric Score':best_score_list, 'Test Predict Metric Score': test_predict_result_list})\n",
    "    return model_result\n"
   ]
  },
  {
   "cell_type": "markdown",
   "id": "69a2218d",
   "metadata": {
    "id": "69a2218d"
   },
   "source": [
    "# <b>4.1 <span style='color:red'>|</span> Visualising Classification Prediction </b> <a class=\"anchor\" id=\"4.1\"></a>"
   ]
  },
  {
   "cell_type": "code",
   "execution_count": 51,
   "id": "044ba7f9",
   "metadata": {
    "id": "044ba7f9"
   },
   "outputs": [],
   "source": [
    "font = {'family' : 'Tahoma',\n",
    "        'weight' : 'bold',\n",
    "        'size'   : 12}\n",
    "matplotlib.rc('font', **font)\n",
    "\n",
    "def vis_classification(vector_type = 'unigram', estimator = KNeighborsClassifier(n_neighbors=9)):\n",
    "    pca = PCA(n_components=2)\n",
    "    df1 = pca.fit_transform(dataframes[vector_type].todense())\n",
    "    X_train, X_test, y_train, y_test = train_test_split(df1, df_target, test_size=0.2, random_state=random_state_number)\n",
    "\n",
    "    # get training set\n",
    "    df2 = pd.DataFrame({'pca1':X_train[:,1], 'pca2': X_train[:,0], 'y':le.inverse_transform(y_train)})\n",
    "    min_1, max_1 = df2['pca1'].min(), df2['pca1'].max()\n",
    "    min_2, max_2 = df2['pca2'].min(), df2['pca2'].max()\n",
    "\n",
    "    # generate dimension reduced, but extended data\n",
    "    pca1_range = np.linspace(min_1,max_1,30)\n",
    "    pca2_range = np.linspace(min_2,max_2,30)\n",
    "\n",
    "    # shuffle\n",
    "    np.random.shuffle(pca1_range) ; np.random.shuffle(pca2_range)\n",
    "\n",
    "    # to dataframe\n",
    "    prediction_test = pd.DataFrame({'pca1':pca1_range, 'pca2':pca2_range})\n",
    "\n",
    "    best_estimator = estimator\n",
    "\n",
    "    # fit training set and predict extended data\n",
    "    clf = best_estimator.fit(X_train, y_train)\n",
    "\n",
    "    fig, axs = plt.subplots(nrows = 1, ncols = 2, figsize=(15,6))\n",
    "    cmap = plt.cm.get_cmap('tab10', 4)\n",
    "    fig.suptitle(f\"Visualising {type(estimator).__name__} on {vector_type.capitalize()} Vector\", fontsize=14,fontweight='bold')\n",
    "\n",
    "\n",
    "    def plot_scatter(ax, predictor_set, target, title):\n",
    "\n",
    "        # plot area classifier\n",
    "        clf = best_estimator.fit(X_train, y_train)\n",
    "        axs[0].tricontourf(X_train[:,0], X_train[:,1], clf.predict(X_train), levels=np.arange(-0.5, 4), zorder=10, alpha=0.3, cmap=cmap, edgecolors=\"k\")\n",
    "\n",
    "        axs[1].tricontourf(X_test[:,0], X_test[:,1], clf.predict(X_test), levels=np.arange(-0.5, 4), zorder=10, alpha=0.3, cmap=cmap, edgecolors=\"k\")\n",
    "\n",
    "        # plot scatter\n",
    "        df3 = pd.DataFrame({'pca1':predictor_set[:,1], 'pca2': predictor_set[:,0], 'y':le.inverse_transform(target)})\n",
    "        for y_label in df3['y'].unique():\n",
    "            df_filter = df3[df3['y']==y_label]\n",
    "            ax.scatter(df_filter['pca1'], df_filter['pca2'], alpha=1,label=f\"{y_label}\")\n",
    "        ax.legend()\n",
    "        ax.set_title(f'{title} ({predictor_set.shape[0]} Samples)',fontweight='bold')\n",
    "    plot_scatter(axs[0], X_train, y_train, 'Training Set')\n",
    "    plot_scatter(axs[1], X_test, y_test, 'Testing Set')\n",
    "    axs[0].sharey(axs[1])\n",
    "    return plt.show()"
   ]
  },
  {
   "cell_type": "code",
   "execution_count": null,
   "id": "7a6e7703-cc65-4e27-9575-3540e49c4e65",
   "metadata": {},
   "outputs": [],
   "source": []
  },
  {
   "cell_type": "code",
   "execution_count": 52,
   "id": "37bf7a21",
   "metadata": {
    "colab": {
     "base_uri": "https://localhost:8080/",
     "height": 193
    },
    "executionInfo": {
     "elapsed": 559,
     "status": "error",
     "timestamp": 1726899251442,
     "user": {
      "displayName": "boljagan",
      "userId": "03505259739820159249"
     },
     "user_tz": -330
    },
    "id": "37bf7a21",
    "outputId": "a5abbbf6-deea-4f5e-8fc2-9960d4dbca11"
   },
   "outputs": [
    {
     "data": {
      "text/html": [
       "<div>\n",
       "<style scoped>\n",
       "    .dataframe tbody tr th:only-of-type {\n",
       "        vertical-align: middle;\n",
       "    }\n",
       "\n",
       "    .dataframe tbody tr th {\n",
       "        vertical-align: top;\n",
       "    }\n",
       "\n",
       "    .dataframe thead th {\n",
       "        text-align: right;\n",
       "    }\n",
       "</style>\n",
       "<table border=\"1\" class=\"dataframe\">\n",
       "  <thead>\n",
       "    <tr style=\"text-align: right;\">\n",
       "      <th></th>\n",
       "      <th>Vector</th>\n",
       "      <th>Metric</th>\n",
       "      <th>Calibrated Estimator</th>\n",
       "      <th>Best CV Metric Score</th>\n",
       "      <th>Test Predict Metric Score</th>\n",
       "    </tr>\n",
       "  </thead>\n",
       "  <tbody>\n",
       "    <tr>\n",
       "      <th>0</th>\n",
       "      <td>unigram</td>\n",
       "      <td>f1_macro</td>\n",
       "      <td>(DecisionTreeClassifier(max_depth=32, max_features='sqrt',\\n                       random_state=1985925507), DecisionTreeClassifier(max_depth=32, max_features='sqrt',\\n                       random_state=1459224502), DecisionTreeClassifier(max_depth=3...</td>\n",
       "      <td>0.772985</td>\n",
       "      <td>0.870563</td>\n",
       "    </tr>\n",
       "    <tr>\n",
       "      <th>1</th>\n",
       "      <td>unigram</td>\n",
       "      <td>precision_macro</td>\n",
       "      <td>(DecisionTreeClassifier(max_depth=32, max_features='sqrt',\\n                       random_state=1985925507), DecisionTreeClassifier(max_depth=32, max_features='sqrt',\\n                       random_state=1459224502), DecisionTreeClassifier(max_depth=3...</td>\n",
       "      <td>0.890606</td>\n",
       "      <td>0.900839</td>\n",
       "    </tr>\n",
       "    <tr>\n",
       "      <th>2</th>\n",
       "      <td>unigram</td>\n",
       "      <td>recall_macro</td>\n",
       "      <td>(DecisionTreeClassifier(max_depth=32, max_features='sqrt',\\n                       random_state=1985925507), DecisionTreeClassifier(max_depth=32, max_features='sqrt',\\n                       random_state=1459224502), DecisionTreeClassifier(max_depth=3...</td>\n",
       "      <td>0.764815</td>\n",
       "      <td>0.868056</td>\n",
       "    </tr>\n",
       "    <tr>\n",
       "      <th>3</th>\n",
       "      <td>unigram_bigram</td>\n",
       "      <td>f1_macro</td>\n",
       "      <td>(DecisionTreeClassifier(max_depth=32, max_features='sqrt',\\n                       random_state=1985925507), DecisionTreeClassifier(max_depth=32, max_features='sqrt',\\n                       random_state=1459224502), DecisionTreeClassifier(max_depth=3...</td>\n",
       "      <td>0.755284</td>\n",
       "      <td>0.827778</td>\n",
       "    </tr>\n",
       "    <tr>\n",
       "      <th>4</th>\n",
       "      <td>unigram_bigram</td>\n",
       "      <td>precision_macro</td>\n",
       "      <td>(DecisionTreeClassifier(max_depth=32, max_features='sqrt',\\n                       random_state=1985925507), DecisionTreeClassifier(max_depth=32, max_features='sqrt',\\n                       random_state=1459224502), DecisionTreeClassifier(max_depth=3...</td>\n",
       "      <td>0.879680</td>\n",
       "      <td>0.870614</td>\n",
       "    </tr>\n",
       "    <tr>\n",
       "      <th>5</th>\n",
       "      <td>unigram_bigram</td>\n",
       "      <td>recall_macro</td>\n",
       "      <td>(DecisionTreeClassifier(max_depth=30, max_features='sqrt', min_samples_split=180,\\n                       random_state=1985925507), DecisionTreeClassifier(max_depth=30, max_features='sqrt', min_samples_split=180,\\n                       random_state=1...</td>\n",
       "      <td>0.333333</td>\n",
       "      <td>0.333333</td>\n",
       "    </tr>\n",
       "    <tr>\n",
       "      <th>6</th>\n",
       "      <td>bigram</td>\n",
       "      <td>f1_macro</td>\n",
       "      <td>(DecisionTreeClassifier(max_depth=32, max_features='sqrt',\\n                       random_state=1985925507), DecisionTreeClassifier(max_depth=32, max_features='sqrt',\\n                       random_state=1459224502), DecisionTreeClassifier(max_depth=3...</td>\n",
       "      <td>0.638253</td>\n",
       "      <td>0.765051</td>\n",
       "    </tr>\n",
       "    <tr>\n",
       "      <th>7</th>\n",
       "      <td>bigram</td>\n",
       "      <td>precision_macro</td>\n",
       "      <td>(DecisionTreeClassifier(max_depth=30, max_features='sqrt',\\n                       random_state=1985925507), DecisionTreeClassifier(max_depth=30, max_features='sqrt',\\n                       random_state=1459224502), DecisionTreeClassifier(max_depth=3...</td>\n",
       "      <td>0.693120</td>\n",
       "      <td>0.824786</td>\n",
       "    </tr>\n",
       "    <tr>\n",
       "      <th>8</th>\n",
       "      <td>bigram</td>\n",
       "      <td>recall_macro</td>\n",
       "      <td>(DecisionTreeClassifier(max_depth=30, max_features='sqrt', min_samples_split=180,\\n                       random_state=1985925507), DecisionTreeClassifier(max_depth=30, max_features='sqrt', min_samples_split=180,\\n                       random_state=1...</td>\n",
       "      <td>0.333333</td>\n",
       "      <td>0.333333</td>\n",
       "    </tr>\n",
       "    <tr>\n",
       "      <th>9</th>\n",
       "      <td>bigram_trigram</td>\n",
       "      <td>f1_macro</td>\n",
       "      <td>(DecisionTreeClassifier(max_depth=32, max_features='sqrt',\\n                       random_state=1985925507), DecisionTreeClassifier(max_depth=32, max_features='sqrt',\\n                       random_state=1459224502), DecisionTreeClassifier(max_depth=3...</td>\n",
       "      <td>0.630956</td>\n",
       "      <td>0.725932</td>\n",
       "    </tr>\n",
       "    <tr>\n",
       "      <th>10</th>\n",
       "      <td>bigram_trigram</td>\n",
       "      <td>precision_macro</td>\n",
       "      <td>(DecisionTreeClassifier(max_depth=32, max_features='sqrt',\\n                       random_state=1985925507), DecisionTreeClassifier(max_depth=32, max_features='sqrt',\\n                       random_state=1459224502), DecisionTreeClassifier(max_depth=3...</td>\n",
       "      <td>0.687009</td>\n",
       "      <td>0.791667</td>\n",
       "    </tr>\n",
       "    <tr>\n",
       "      <th>11</th>\n",
       "      <td>bigram_trigram</td>\n",
       "      <td>recall_macro</td>\n",
       "      <td>(DecisionTreeClassifier(max_depth=30, max_features='sqrt', min_samples_split=180,\\n                       random_state=1985925507), DecisionTreeClassifier(max_depth=30, max_features='sqrt', min_samples_split=180,\\n                       random_state=1...</td>\n",
       "      <td>0.333333</td>\n",
       "      <td>0.333333</td>\n",
       "    </tr>\n",
       "    <tr>\n",
       "      <th>12</th>\n",
       "      <td>trigram</td>\n",
       "      <td>f1_macro</td>\n",
       "      <td>(DecisionTreeClassifier(max_depth=30, max_features='sqrt', min_samples_split=180,\\n                       random_state=1985925507), DecisionTreeClassifier(max_depth=30, max_features='sqrt', min_samples_split=180,\\n                       random_state=1...</td>\n",
       "      <td>0.189080</td>\n",
       "      <td>0.191781</td>\n",
       "    </tr>\n",
       "    <tr>\n",
       "      <th>13</th>\n",
       "      <td>trigram</td>\n",
       "      <td>precision_macro</td>\n",
       "      <td>(DecisionTreeClassifier(max_depth=30, max_features='sqrt', min_samples_split=180,\\n                       random_state=1985925507), DecisionTreeClassifier(max_depth=30, max_features='sqrt', min_samples_split=180,\\n                       random_state=1...</td>\n",
       "      <td>0.132246</td>\n",
       "      <td>0.134615</td>\n",
       "    </tr>\n",
       "    <tr>\n",
       "      <th>14</th>\n",
       "      <td>trigram</td>\n",
       "      <td>recall_macro</td>\n",
       "      <td>(DecisionTreeClassifier(max_depth=30, max_features='sqrt', min_samples_split=180,\\n                       random_state=1985925507), DecisionTreeClassifier(max_depth=30, max_features='sqrt', min_samples_split=180,\\n                       random_state=1...</td>\n",
       "      <td>0.333333</td>\n",
       "      <td>0.333333</td>\n",
       "    </tr>\n",
       "  </tbody>\n",
       "</table>\n",
       "</div>"
      ],
      "text/plain": [
       "            Vector           Metric  \\\n",
       "0          unigram         f1_macro   \n",
       "1          unigram  precision_macro   \n",
       "2          unigram     recall_macro   \n",
       "3   unigram_bigram         f1_macro   \n",
       "4   unigram_bigram  precision_macro   \n",
       "5   unigram_bigram     recall_macro   \n",
       "6           bigram         f1_macro   \n",
       "7           bigram  precision_macro   \n",
       "8           bigram     recall_macro   \n",
       "9   bigram_trigram         f1_macro   \n",
       "10  bigram_trigram  precision_macro   \n",
       "11  bigram_trigram     recall_macro   \n",
       "12         trigram         f1_macro   \n",
       "13         trigram  precision_macro   \n",
       "14         trigram     recall_macro   \n",
       "\n",
       "                                                                                                                                                                                                                                              Calibrated Estimator  \\\n",
       "0   (DecisionTreeClassifier(max_depth=32, max_features='sqrt',\\n                       random_state=1985925507), DecisionTreeClassifier(max_depth=32, max_features='sqrt',\\n                       random_state=1459224502), DecisionTreeClassifier(max_depth=3...   \n",
       "1   (DecisionTreeClassifier(max_depth=32, max_features='sqrt',\\n                       random_state=1985925507), DecisionTreeClassifier(max_depth=32, max_features='sqrt',\\n                       random_state=1459224502), DecisionTreeClassifier(max_depth=3...   \n",
       "2   (DecisionTreeClassifier(max_depth=32, max_features='sqrt',\\n                       random_state=1985925507), DecisionTreeClassifier(max_depth=32, max_features='sqrt',\\n                       random_state=1459224502), DecisionTreeClassifier(max_depth=3...   \n",
       "3   (DecisionTreeClassifier(max_depth=32, max_features='sqrt',\\n                       random_state=1985925507), DecisionTreeClassifier(max_depth=32, max_features='sqrt',\\n                       random_state=1459224502), DecisionTreeClassifier(max_depth=3...   \n",
       "4   (DecisionTreeClassifier(max_depth=32, max_features='sqrt',\\n                       random_state=1985925507), DecisionTreeClassifier(max_depth=32, max_features='sqrt',\\n                       random_state=1459224502), DecisionTreeClassifier(max_depth=3...   \n",
       "5   (DecisionTreeClassifier(max_depth=30, max_features='sqrt', min_samples_split=180,\\n                       random_state=1985925507), DecisionTreeClassifier(max_depth=30, max_features='sqrt', min_samples_split=180,\\n                       random_state=1...   \n",
       "6   (DecisionTreeClassifier(max_depth=32, max_features='sqrt',\\n                       random_state=1985925507), DecisionTreeClassifier(max_depth=32, max_features='sqrt',\\n                       random_state=1459224502), DecisionTreeClassifier(max_depth=3...   \n",
       "7   (DecisionTreeClassifier(max_depth=30, max_features='sqrt',\\n                       random_state=1985925507), DecisionTreeClassifier(max_depth=30, max_features='sqrt',\\n                       random_state=1459224502), DecisionTreeClassifier(max_depth=3...   \n",
       "8   (DecisionTreeClassifier(max_depth=30, max_features='sqrt', min_samples_split=180,\\n                       random_state=1985925507), DecisionTreeClassifier(max_depth=30, max_features='sqrt', min_samples_split=180,\\n                       random_state=1...   \n",
       "9   (DecisionTreeClassifier(max_depth=32, max_features='sqrt',\\n                       random_state=1985925507), DecisionTreeClassifier(max_depth=32, max_features='sqrt',\\n                       random_state=1459224502), DecisionTreeClassifier(max_depth=3...   \n",
       "10  (DecisionTreeClassifier(max_depth=32, max_features='sqrt',\\n                       random_state=1985925507), DecisionTreeClassifier(max_depth=32, max_features='sqrt',\\n                       random_state=1459224502), DecisionTreeClassifier(max_depth=3...   \n",
       "11  (DecisionTreeClassifier(max_depth=30, max_features='sqrt', min_samples_split=180,\\n                       random_state=1985925507), DecisionTreeClassifier(max_depth=30, max_features='sqrt', min_samples_split=180,\\n                       random_state=1...   \n",
       "12  (DecisionTreeClassifier(max_depth=30, max_features='sqrt', min_samples_split=180,\\n                       random_state=1985925507), DecisionTreeClassifier(max_depth=30, max_features='sqrt', min_samples_split=180,\\n                       random_state=1...   \n",
       "13  (DecisionTreeClassifier(max_depth=30, max_features='sqrt', min_samples_split=180,\\n                       random_state=1985925507), DecisionTreeClassifier(max_depth=30, max_features='sqrt', min_samples_split=180,\\n                       random_state=1...   \n",
       "14  (DecisionTreeClassifier(max_depth=30, max_features='sqrt', min_samples_split=180,\\n                       random_state=1985925507), DecisionTreeClassifier(max_depth=30, max_features='sqrt', min_samples_split=180,\\n                       random_state=1...   \n",
       "\n",
       "    Best CV Metric Score  Test Predict Metric Score  \n",
       "0               0.772985                   0.870563  \n",
       "1               0.890606                   0.900839  \n",
       "2               0.764815                   0.868056  \n",
       "3               0.755284                   0.827778  \n",
       "4               0.879680                   0.870614  \n",
       "5               0.333333                   0.333333  \n",
       "6               0.638253                   0.765051  \n",
       "7               0.693120                   0.824786  \n",
       "8               0.333333                   0.333333  \n",
       "9               0.630956                   0.725932  \n",
       "10              0.687009                   0.791667  \n",
       "11              0.333333                   0.333333  \n",
       "12              0.189080                   0.191781  \n",
       "13              0.132246                   0.134615  \n",
       "14              0.333333                   0.333333  "
      ]
     },
     "execution_count": 52,
     "metadata": {},
     "output_type": "execute_result"
    }
   ],
   "source": [
    "param_grid = {'max_depth': [None,30,32,35,37,38,39,40],'min_samples_split': [2,150,170,180,190,200]}\n",
    "base_estimator = RandomForestClassifier(random_state=random_state_number)\n",
    "rfc_result = get_performance(param_grid, base_estimator, dataframes)\n",
    "rfc_result"
   ]
  },
  {
   "cell_type": "code",
   "execution_count": 67,
   "id": "325f2903",
   "metadata": {
    "colab": {
     "base_uri": "https://localhost:8080/",
     "height": 193
    },
    "executionInfo": {
     "elapsed": 533,
     "status": "error",
     "timestamp": 1726899012131,
     "user": {
      "displayName": "boljagan",
      "userId": "03505259739820159249"
     },
     "user_tz": -330
    },
    "id": "325f2903",
    "outputId": "7ca2b5ab-c05c-4528-f10e-96d8e4702a56"
   },
   "outputs": [],
   "source": [
    "import numpy as np\n",
    "import pandas as pd\n",
    "\n",
    "def get_best_vector_clf(knn_result: pd.DataFrame) -> tuple:\n",
    "    \"\"\"\n",
    "    Retrieves the best vector and calibrated estimator based on the 'f1_macro' metric \n",
    "    from the provided KNN results.\n",
    "\n",
    "    Args:\n",
    "    knn_result (pd.DataFrame): A DataFrame containing KNN results with 'Metric', \n",
    "                                'Best CV Metric Score', 'Vector', and \n",
    "                                'Calibrated Estimator' columns.\n",
    "\n",
    "    Returns:\n",
    "    tuple: A tuple containing the best vector and the best calibrated estimator.\n",
    "\n",
    "    Raises:\n",
    "    ValueError: If no entries are found for 'f1_macro' in the Metric column.\n",
    "    KeyError: If required columns 'Vector' or 'Calibrated Estimator' are missing.\n",
    "    \"\"\"\n",
    "    temp = knn_result[knn_result['Metric'] == 'f1_macro']\n",
    "    \n",
    "    if temp.empty:\n",
    "        raise ValueError(\"No entries found for 'f1_macro' in the Metric column.\")\n",
    "    \n",
    "    # Get the row with the maximum 'Best CV Metric Score'\n",
    "    best_row = temp.loc[temp['Best CV Metric Score'].idxmax()]\n",
    "\n",
    "    # Check if the required columns exist\n",
    "    if 'Vector' not in best_row.index or 'Calibrated Estimator' not in best_row.index:\n",
    "        raise KeyError(\"Required columns 'Vector' or 'Calibrated Estimator' are missing in the result.\")\n",
    "    \n",
    "    # Convert to tuple for hashability\n",
    "    best_vector = tuple(best_row['Vector'])  \n",
    "    best_clf = tuple(best_row['Calibrated Estimator'])  \n",
    "\n",
    "    return best_vector, best_clf"
   ]
  },
  {
   "cell_type": "markdown",
   "id": "0fa56d4b",
   "metadata": {
    "id": "0fa56d4b"
   },
   "source": [
    "# <b>4.2 <span style='color:red'>|</span>  Dimensionality Reduction </b> <a class=\"anchor\" id=\"4.2\"></a>"
   ]
  },
  {
   "cell_type": "code",
   "execution_count": 71,
   "id": "406f56fb",
   "metadata": {
    "id": "406f56fb",
    "outputId": "d0b21ecb-471b-45a1-b0c7-adace357183b"
   },
   "outputs": [
    {
     "data": {
      "text/plain": [
       "{'unigram': RandomForestClassifier(max_depth=32, random_state=8888),\n",
       " 'unigram_bigram': RandomForestClassifier(max_depth=32, random_state=8888),\n",
       " 'bigram': RandomForestClassifier(max_depth=32, random_state=8888),\n",
       " 'bigram_trigram': RandomForestClassifier(max_depth=32, random_state=8888),\n",
       " 'trigram': RandomForestClassifier(max_depth=30, min_samples_split=180, random_state=8888)}"
      ]
     },
     "execution_count": 71,
     "metadata": {},
     "output_type": "execute_result"
    }
   ],
   "source": [
    "df_temp = rfc_result[rfc_result['Metric'] =='f1_macro']\n",
    "# df_temp['Calibrated Estimator']\n",
    "vector_rfc = df_temp[['Vector','Calibrated Estimator']].set_index('Vector').to_dict()['Calibrated Estimator']\n",
    "vector_rfc"
   ]
  },
  {
   "cell_type": "code",
   "execution_count": 73,
   "id": "b00c2e86",
   "metadata": {
    "id": "b00c2e86",
    "outputId": "dc0f4620-dddd-43a7-b995-8050acc2e0b9"
   },
   "outputs": [
    {
     "data": {
      "text/html": [
       "<div>\n",
       "<style scoped>\n",
       "    .dataframe tbody tr th:only-of-type {\n",
       "        vertical-align: middle;\n",
       "    }\n",
       "\n",
       "    .dataframe tbody tr th {\n",
       "        vertical-align: top;\n",
       "    }\n",
       "\n",
       "    .dataframe thead th {\n",
       "        text-align: right;\n",
       "    }\n",
       "</style>\n",
       "<table border=\"1\" class=\"dataframe\">\n",
       "  <thead>\n",
       "    <tr style=\"text-align: right;\">\n",
       "      <th></th>\n",
       "      <th>N-Gram Feature Vector</th>\n",
       "      <th>Data Dimension</th>\n",
       "    </tr>\n",
       "  </thead>\n",
       "  <tbody>\n",
       "    <tr>\n",
       "      <th>0</th>\n",
       "      <td>unigram</td>\n",
       "      <td>(258, 908)</td>\n",
       "    </tr>\n",
       "    <tr>\n",
       "      <th>1</th>\n",
       "      <td>unigram_bigram</td>\n",
       "      <td>(258, 2571)</td>\n",
       "    </tr>\n",
       "    <tr>\n",
       "      <th>2</th>\n",
       "      <td>bigram</td>\n",
       "      <td>(258, 2952)</td>\n",
       "    </tr>\n",
       "    <tr>\n",
       "      <th>3</th>\n",
       "      <td>bigram_trigram</td>\n",
       "      <td>(258, 3273)</td>\n",
       "    </tr>\n",
       "    <tr>\n",
       "      <th>4</th>\n",
       "      <td>trigram</td>\n",
       "      <td>(258, 59546)</td>\n",
       "    </tr>\n",
       "  </tbody>\n",
       "</table>\n",
       "</div>"
      ],
      "text/plain": [
       "  N-Gram Feature Vector Data Dimension\n",
       "0               unigram     (258, 908)\n",
       "1        unigram_bigram    (258, 2571)\n",
       "2                bigram    (258, 2952)\n",
       "3        bigram_trigram    (258, 3273)\n",
       "4               trigram   (258, 59546)"
      ]
     },
     "execution_count": 73,
     "metadata": {},
     "output_type": "execute_result"
    }
   ],
   "source": [
    "supported_columns_dict = {}\n",
    "for df_name, df in dataframes.items():\n",
    "    X_train, X_test, y_train, y_test = train_test_split(dataframes[df_name], df_target, test_size=0.2, random_state=random_state_number)\n",
    "\n",
    "    selector = SelectFromModel(estimator=vector_rfc[df_name]).fit(X_train, y_train)\n",
    "\n",
    "    filter_columns = selector.get_support()\n",
    "    dataframes[df_name] = dataframes[df_name][:, filter_columns]\n",
    "\n",
    "shape_dim = [] ; df_names = []\n",
    "for df_name, df in dataframes.items():\n",
    "    shape_dim.append(df.shape)\n",
    "    df_names.append(df_name)\n",
    "n_gram_df_dim = pd.DataFrame({'N-Gram Feature Vector':df_names, 'Data Dimension':shape_dim})\n",
    "n_gram_df_dim"
   ]
  },
  {
   "cell_type": "code",
   "execution_count": 77,
   "id": "5b9b5b17",
   "metadata": {
    "id": "5b9b5b17",
    "outputId": "3454d0ae-6b66-4015-820c-c6ec29d72f94"
   },
   "outputs": [
    {
     "data": {
      "image/png": "[encoded data removed]",
      "text/plain": [
       "<Figure size 1000x600 with 1 Axes>"
      ]
     },
     "metadata": {},
     "output_type": "display_data"
    }
   ],
   "source": [
    "labels = n_gram_df_dim['N-Gram Feature Vector'].values\n",
    "b4 = [shape[1] for shape in n_gram_df['Data Dimension'].values]\n",
    "af = [shape[1] for shape in n_gram_df_dim['Data Dimension'].values]\n",
    "\n",
    "x = np.arange(len(labels))  # the label locations\n",
    "width = 0.35  # the width of the bars\n",
    "\n",
    "fig, ax = plt.subplots(figsize=(10, 6))\n",
    "rects1 = ax.bar(x - width/2, b4, width, label='Before Dimensionality Reduction', color='skyblue')\n",
    "rects2 = ax.bar(x + width/2, af, width, label='After Dimensionality Reduction', color='lime')\n",
    "\n",
    "# Add some text for labels, title and custom x-axis tick labels, etc.\n",
    "ax.set_ylabel('Number Columns')\n",
    "ax.set_title('Before and After Dimensionality Reduction')\n",
    "ax.set_xticks(x, labels)\n",
    "ax.set_xticklabels(ax.get_xticklabels(),rotation=30)\n",
    "ax.legend()\n",
    "\n",
    "ax.bar_label(rects1, padding=3)\n",
    "ax.bar_label(rects2, padding=3)\n",
    "\n",
    "fig.tight_layout()\n",
    "\n",
    "plt.show()"
   ]
  },
  {
   "cell_type": "code",
   "execution_count": 79,
   "id": "ecb7ee5b",
   "metadata": {
    "id": "ecb7ee5b",
    "outputId": "1b6cc972-ab01-4b38-e8a4-deffebc00dad"
   },
   "outputs": [
    {
     "data": {
      "text/html": [
       "<div>\n",
       "<style scoped>\n",
       "    .dataframe tbody tr th:only-of-type {\n",
       "        vertical-align: middle;\n",
       "    }\n",
       "\n",
       "    .dataframe tbody tr th {\n",
       "        vertical-align: top;\n",
       "    }\n",
       "\n",
       "    .dataframe thead th {\n",
       "        text-align: right;\n",
       "    }\n",
       "</style>\n",
       "<table border=\"1\" class=\"dataframe\">\n",
       "  <thead>\n",
       "    <tr style=\"text-align: right;\">\n",
       "      <th></th>\n",
       "      <th>Vector</th>\n",
       "      <th>Metric</th>\n",
       "      <th>Calibrated Estimator</th>\n",
       "      <th>Best CV Metric Score</th>\n",
       "      <th>Test Predict Metric Score</th>\n",
       "    </tr>\n",
       "  </thead>\n",
       "  <tbody>\n",
       "    <tr>\n",
       "      <th>0</th>\n",
       "      <td>unigram</td>\n",
       "      <td>f1_macro</td>\n",
       "      <td>KNeighborsClassifier()</td>\n",
       "      <td>0.763595</td>\n",
       "      <td>0.790297</td>\n",
       "    </tr>\n",
       "    <tr>\n",
       "      <th>1</th>\n",
       "      <td>unigram</td>\n",
       "      <td>precision_macro</td>\n",
       "      <td>KNeighborsClassifier()</td>\n",
       "      <td>0.893195</td>\n",
       "      <td>0.837858</td>\n",
       "    </tr>\n",
       "    <tr>\n",
       "      <th>2</th>\n",
       "      <td>unigram</td>\n",
       "      <td>recall_macro</td>\n",
       "      <td>KNeighborsClassifier()</td>\n",
       "      <td>0.764815</td>\n",
       "      <td>0.783333</td>\n",
       "    </tr>\n",
       "    <tr>\n",
       "      <th>3</th>\n",
       "      <td>unigram_bigram</td>\n",
       "      <td>f1_macro</td>\n",
       "      <td>KNeighborsClassifier()</td>\n",
       "      <td>0.702388</td>\n",
       "      <td>0.765975</td>\n",
       "    </tr>\n",
       "    <tr>\n",
       "      <th>4</th>\n",
       "      <td>unigram_bigram</td>\n",
       "      <td>precision_macro</td>\n",
       "      <td>KNeighborsClassifier(n_neighbors=11)</td>\n",
       "      <td>0.786494</td>\n",
       "      <td>0.791667</td>\n",
       "    </tr>\n",
       "    <tr>\n",
       "      <th>5</th>\n",
       "      <td>unigram_bigram</td>\n",
       "      <td>recall_macro</td>\n",
       "      <td>KNeighborsClassifier()</td>\n",
       "      <td>0.720741</td>\n",
       "      <td>0.761111</td>\n",
       "    </tr>\n",
       "    <tr>\n",
       "      <th>6</th>\n",
       "      <td>bigram</td>\n",
       "      <td>f1_macro</td>\n",
       "      <td>KNeighborsClassifier(n_neighbors=7)</td>\n",
       "      <td>0.356011</td>\n",
       "      <td>0.539607</td>\n",
       "    </tr>\n",
       "    <tr>\n",
       "      <th>7</th>\n",
       "      <td>bigram</td>\n",
       "      <td>precision_macro</td>\n",
       "      <td>KNeighborsClassifier(n_neighbors=7)</td>\n",
       "      <td>0.421614</td>\n",
       "      <td>0.833333</td>\n",
       "    </tr>\n",
       "    <tr>\n",
       "      <th>8</th>\n",
       "      <td>bigram</td>\n",
       "      <td>recall_macro</td>\n",
       "      <td>KNeighborsClassifier(n_neighbors=7)</td>\n",
       "      <td>0.435185</td>\n",
       "      <td>0.551389</td>\n",
       "    </tr>\n",
       "    <tr>\n",
       "      <th>9</th>\n",
       "      <td>bigram_trigram</td>\n",
       "      <td>f1_macro</td>\n",
       "      <td>KNeighborsClassifier(n_neighbors=9)</td>\n",
       "      <td>0.287391</td>\n",
       "      <td>0.414838</td>\n",
       "    </tr>\n",
       "    <tr>\n",
       "      <th>10</th>\n",
       "      <td>bigram_trigram</td>\n",
       "      <td>precision_macro</td>\n",
       "      <td>KNeighborsClassifier(n_neighbors=9)</td>\n",
       "      <td>0.346630</td>\n",
       "      <td>0.818841</td>\n",
       "    </tr>\n",
       "    <tr>\n",
       "      <th>11</th>\n",
       "      <td>bigram_trigram</td>\n",
       "      <td>recall_macro</td>\n",
       "      <td>KNeighborsClassifier(n_neighbors=15)</td>\n",
       "      <td>0.350000</td>\n",
       "      <td>0.422222</td>\n",
       "    </tr>\n",
       "    <tr>\n",
       "      <th>12</th>\n",
       "      <td>trigram</td>\n",
       "      <td>f1_macro</td>\n",
       "      <td>KNeighborsClassifier(n_neighbors=17)</td>\n",
       "      <td>0.183272</td>\n",
       "      <td>0.156863</td>\n",
       "    </tr>\n",
       "    <tr>\n",
       "      <th>13</th>\n",
       "      <td>trigram</td>\n",
       "      <td>precision_macro</td>\n",
       "      <td>KNeighborsClassifier(n_neighbors=17)</td>\n",
       "      <td>0.126449</td>\n",
       "      <td>0.102564</td>\n",
       "    </tr>\n",
       "    <tr>\n",
       "      <th>14</th>\n",
       "      <td>trigram</td>\n",
       "      <td>recall_macro</td>\n",
       "      <td>KNeighborsClassifier(n_neighbors=19)</td>\n",
       "      <td>0.333333</td>\n",
       "      <td>0.333333</td>\n",
       "    </tr>\n",
       "  </tbody>\n",
       "</table>\n",
       "</div>"
      ],
      "text/plain": [
       "            Vector           Metric                  Calibrated Estimator  \\\n",
       "0          unigram         f1_macro                KNeighborsClassifier()   \n",
       "1          unigram  precision_macro                KNeighborsClassifier()   \n",
       "2          unigram     recall_macro                KNeighborsClassifier()   \n",
       "3   unigram_bigram         f1_macro                KNeighborsClassifier()   \n",
       "4   unigram_bigram  precision_macro  KNeighborsClassifier(n_neighbors=11)   \n",
       "5   unigram_bigram     recall_macro                KNeighborsClassifier()   \n",
       "6           bigram         f1_macro   KNeighborsClassifier(n_neighbors=7)   \n",
       "7           bigram  precision_macro   KNeighborsClassifier(n_neighbors=7)   \n",
       "8           bigram     recall_macro   KNeighborsClassifier(n_neighbors=7)   \n",
       "9   bigram_trigram         f1_macro   KNeighborsClassifier(n_neighbors=9)   \n",
       "10  bigram_trigram  precision_macro   KNeighborsClassifier(n_neighbors=9)   \n",
       "11  bigram_trigram     recall_macro  KNeighborsClassifier(n_neighbors=15)   \n",
       "12         trigram         f1_macro  KNeighborsClassifier(n_neighbors=17)   \n",
       "13         trigram  precision_macro  KNeighborsClassifier(n_neighbors=17)   \n",
       "14         trigram     recall_macro  KNeighborsClassifier(n_neighbors=19)   \n",
       "\n",
       "    Best CV Metric Score  Test Predict Metric Score  \n",
       "0               0.763595                   0.790297  \n",
       "1               0.893195                   0.837858  \n",
       "2               0.764815                   0.783333  \n",
       "3               0.702388                   0.765975  \n",
       "4               0.786494                   0.791667  \n",
       "5               0.720741                   0.761111  \n",
       "6               0.356011                   0.539607  \n",
       "7               0.421614                   0.833333  \n",
       "8               0.435185                   0.551389  \n",
       "9               0.287391                   0.414838  \n",
       "10              0.346630                   0.818841  \n",
       "11              0.350000                   0.422222  \n",
       "12              0.183272                   0.156863  \n",
       "13              0.126449                   0.102564  \n",
       "14              0.333333                   0.333333  "
      ]
     },
     "execution_count": 79,
     "metadata": {},
     "output_type": "execute_result"
    }
   ],
   "source": [
    "param_grid = {'n_neighbors': [5,7,9,11,13,15,17,19,21]}\n",
    "base_estimator = KNeighborsClassifier()\n",
    "knn_result = get_performance(param_grid, base_estimator, dataframes)\n",
    "knn_result"
   ]
  },
  {
   "cell_type": "code",
   "execution_count": 99,
   "id": "3cbe735b",
   "metadata": {
    "id": "3cbe735b",
    "outputId": "796a547e-6c69-4120-bed3-236ca9797117"
   },
   "outputs": [
    {
     "ename": "KeyError",
     "evalue": "(1, 2, 3)",
     "output_type": "error",
     "traceback": [
      "\u001b[1;31m---------------------------------------------------------------------------\u001b[0m",
      "\u001b[1;31mKeyError\u001b[0m                                  Traceback (most recent call last)",
      "Cell \u001b[1;32mIn[99], line 21\u001b[0m\n\u001b[0;32m     19\u001b[0m \u001b[38;5;66;03m# Check if the key exists before calling vis_classification\u001b[39;00m\n\u001b[0;32m     20\u001b[0m \u001b[38;5;28;01mif\u001b[39;00m \u001b[38;5;28mtuple\u001b[39m(best_vector) \u001b[38;5;129;01min\u001b[39;00m valid_keys:\n\u001b[1;32m---> 21\u001b[0m     vis_classification(vector_type\u001b[38;5;241m=\u001b[39m\u001b[38;5;28mtuple\u001b[39m(best_vector), estimator\u001b[38;5;241m=\u001b[39mbest_clf)  \u001b[38;5;66;03m# Convert to tuple\u001b[39;00m\n\u001b[0;32m     22\u001b[0m \u001b[38;5;28;01melse\u001b[39;00m:\n\u001b[0;32m     23\u001b[0m     \u001b[38;5;28mprint\u001b[39m(\u001b[38;5;124m\"\u001b[39m\u001b[38;5;124mError: The best_vector is not a valid key for vis_classification.\u001b[39m\u001b[38;5;124m\"\u001b[39m)\n",
      "Cell \u001b[1;32mIn[51], line 8\u001b[0m, in \u001b[0;36mvis_classification\u001b[1;34m(vector_type, estimator)\u001b[0m\n\u001b[0;32m      6\u001b[0m \u001b[38;5;28;01mdef\u001b[39;00m \u001b[38;5;21mvis_classification\u001b[39m(vector_type \u001b[38;5;241m=\u001b[39m \u001b[38;5;124m'\u001b[39m\u001b[38;5;124munigram\u001b[39m\u001b[38;5;124m'\u001b[39m, estimator \u001b[38;5;241m=\u001b[39m KNeighborsClassifier(n_neighbors\u001b[38;5;241m=\u001b[39m\u001b[38;5;241m9\u001b[39m)):\n\u001b[0;32m      7\u001b[0m     pca \u001b[38;5;241m=\u001b[39m PCA(n_components\u001b[38;5;241m=\u001b[39m\u001b[38;5;241m2\u001b[39m)\n\u001b[1;32m----> 8\u001b[0m     df1 \u001b[38;5;241m=\u001b[39m pca\u001b[38;5;241m.\u001b[39mfit_transform(dataframes[vector_type]\u001b[38;5;241m.\u001b[39mtodense())\n\u001b[0;32m      9\u001b[0m     X_train, X_test, y_train, y_test \u001b[38;5;241m=\u001b[39m train_test_split(df1, df_target, test_size\u001b[38;5;241m=\u001b[39m\u001b[38;5;241m0.2\u001b[39m, random_state\u001b[38;5;241m=\u001b[39mrandom_state_number)\n\u001b[0;32m     11\u001b[0m     \u001b[38;5;66;03m# get training set\u001b[39;00m\n",
      "\u001b[1;31mKeyError\u001b[0m: (1, 2, 3)"
     ]
    }
   ],
   "source": [
    "from sklearn.neighbors import KNeighborsClassifier\n",
    "import numpy as np\n",
    "\n",
    "def get_best_vector_clf(knn_result):\n",
    "    # Assuming knn_result is processed to find the best classifier\n",
    "    best_clf = KNeighborsClassifier()  # Example classifier\n",
    "    # Replace the placeholder with an actual vector, for example:\n",
    "    best_vector = np.array([1, 2, 3])  # Example of a valid vector\n",
    "    return best_vector, best_clf  # Return both values\n",
    "\n",
    "# Assuming knn_result is defined and processed correctly\n",
    "knn_result = []  # Placeholder for actual knn_result processing\n",
    "best_vector, best_clf = get_best_vector_clf(knn_result)\n",
    "\n",
    "# Added (1, 2, 3) to valid_keys to ensure it matches best_vector\n",
    "valid_keys = {(1, 2, 3), (4, 5, 6)}  # Example of valid keys\n",
    "valid_keys.add((1, 2, 3))  # Now (1, 2, 3) is a valid key\n",
    "\n",
    "# Check if the key exists before calling vis_classification\n",
    "if tuple(best_vector) in valid_keys:\n",
    "    vis_classification(vector_type=tuple(best_vector), estimator=best_clf)  # Convert to tuple\n",
    "else:\n",
    "    print(\"Error: The best_vector is not a valid key for vis_classification.\")\n",
    "    # Optionally, you can print the valid keys for debugging\n",
    "    print(\"Valid keys are:\", valid_keys)  # Added for debugging purposes"
   ]
  },
  {
   "cell_type": "code",
   "execution_count": null,
   "id": "bcf288e9",
   "metadata": {
    "id": "bcf288e9",
    "outputId": "7f876da2-f50d-4d8b-a200-45cf76c628cb"
   },
   "outputs": [],
   "source": [
    "param_grid = {'max_depth': [None,4,6,7,8,30,32,35],'min_samples_split': [2,3,4,5,35,10,16,20]}\n",
    "base_estimator = DecisionTreeClassifier(random_state=random_state_number)\n",
    "dtc_result = get_performance(param_grid, base_estimator, dataframes)\n",
    "dtc_result"
   ]
  },
  {
   "cell_type": "code",
   "execution_count": null,
   "id": "8a3c7197",
   "metadata": {
    "id": "8a3c7197",
    "outputId": "a093c0af-04af-49f7-d179-4c130f45e8eb"
   },
   "outputs": [],
   "source": [
    "best_vector, best_clf =  get_best_vector_clf(dtc_result)\n",
    "vis_classification(vector_type = best_vector, estimator = best_clf)"
   ]
  },
  {
   "cell_type": "code",
   "execution_count": null,
   "id": "fc505440",
   "metadata": {
    "id": "fc505440",
    "outputId": "19524e77-c523-42f9-88c9-774ba6eddf49"
   },
   "outputs": [],
   "source": [
    "df_result = pd.concat([knn_result,\n",
    "                      dtc_result,\n",
    "                      rfc_result\n",
    "                      ]\n",
    "                     ).reset_index(drop=True)\n",
    "\n",
    "df_result.groupby(['Metric']).max()"
   ]
  },
  {
   "cell_type": "markdown",
   "id": "0951f2c3",
   "metadata": {
    "id": "0951f2c3"
   },
   "source": [
    "# <b>4.3 <span style='color:red'>|</span>  Obtain Best Classifier and Feature Vector </b> <a class=\"anchor\" id=\"4.3\"></a>"
   ]
  },
  {
   "cell_type": "code",
   "execution_count": null,
   "id": "d406ac82",
   "metadata": {
    "id": "d406ac82"
   },
   "outputs": [],
   "source": [
    "def get_best_result(df_result, metric_score):\n",
    "    df_result_t = df_result[df_result.Metric== 'precision_macro']\n",
    "    precision_macro_df = df_result_t.loc[df_result_t[metric_score].idxmax()].to_frame().T\n",
    "\n",
    "    df_result_t = df_result[df_result.Metric== 'recall_macro']\n",
    "    recall_macro_df = df_result_t.loc[df_result_t[metric_score].idxmax()].to_frame().T\n",
    "\n",
    "    df_result_t = df_result[df_result.Metric== 'f1_macro']\n",
    "    f1_macro_df = df_result_t.loc[df_result_t[metric_score].idxmax()].to_frame().T\n",
    "\n",
    "    return pd.concat([precision_macro_df,recall_macro_df,f1_macro_df])"
   ]
  },
  {
   "cell_type": "code",
   "execution_count": null,
   "id": "34ea08bd",
   "metadata": {
    "id": "34ea08bd",
    "outputId": "fad38ec1-da76-4e9a-d38a-df21a72f2678"
   },
   "outputs": [],
   "source": [
    "best_cv_result = get_best_result(df_result, 'Best CV Metric Score')\n",
    "display(best_cv_result)\n",
    "temp = best_cv_result[best_cv_result['Metric'] == 'f1_macro']\n",
    "best_clf = temp['Calibrated Estimator'].values[0]\n",
    "best_vector = temp['Vector'].values[0]"
   ]
  },
  {
   "cell_type": "code",
   "execution_count": null,
   "id": "9a00eac0",
   "metadata": {
    "id": "9a00eac0",
    "outputId": "36b56299-86de-4146-c36b-569fe3a97ee4"
   },
   "outputs": [],
   "source": [
    "get_best_result(df_result, 'Test Predict Metric Score')"
   ]
  },
  {
   "cell_type": "markdown",
   "id": "04f98ef7",
   "metadata": {
    "id": "04f98ef7"
   },
   "source": [
    "# <b>4.4 <span style='color:red'>|</span>  Evaluate on Each Class Labels </b> <a class=\"anchor\" id=\"4.4\"></a>"
   ]
  },
  {
   "cell_type": "code",
   "execution_count": null,
   "id": "e2eafbf5",
   "metadata": {
    "id": "e2eafbf5",
    "outputId": "d6797a07-1309-429f-a773-7e5e4a9154a5"
   },
   "outputs": [],
   "source": [
    "X_train, X_test, y_train, y_test = train_test_split(dataframes[best_vector], df_target, test_size=0.2, \\\n",
    "                                                    random_state=random_state_number)\n",
    "clf = best_clf.fit(X_train, y_train)\n",
    "y_test_pred= clf.predict(X_test)\n",
    "target_names = ['Discharge Summary', 'ENT', 'Neurosurgery']\n",
    "print(classification_report(y_test,y_test_pred,target_names=target_names))"
   ]
  },
  {
   "cell_type": "code",
   "execution_count": null,
   "id": "a771b10a",
   "metadata": {
    "id": "a771b10a",
    "outputId": "c0bb6679-ab5a-4e49-dc4d-5e96c857bfe1"
   },
   "outputs": [],
   "source": [
    "sample_predict = pd.DataFrame({'Actual Y Test': le.inverse_transform(y_test),'Best Prediction':le.inverse_transform(y_test_pred)})\n",
    "sample_predict.head(20)"
   ]
  },
  {
   "cell_type": "markdown",
   "id": "3eab059e",
   "metadata": {
    "id": "3eab059e"
   },
   "source": [
    "**Notebook Author**\n",
    "\n",
    "Morris Lee 14/9/2022\n",
    "\n",
    "**References**\n",
    "\n",
    "[1]\tA. Markov, “Example of a statistical investigation of the text of ‘Eugene Onegin’ illustrating the dependence between samples in chain,” Izvistia Imperatorskoi Akademii Nauk (Bulletin de l’Academie Imp ´ eriale ´ des Sciences de St.-Petersbourg), pp. 153–162, 1913.\n",
    "\n",
    "[2]\tD. Jurasfky and J. Martin, An introduction to natural language processing, computational linguistics, and speech recognition., 3rd ed. 2021.\n",
    "\n",
    "[3]\tB. J. Marafino, J. M. Davies, N. S. Bardach, M. L. Dean, and R. A. Dudley, “N-gram support vector machines for scalable procedure and diagnosis classification, with applications to clinical free text data from the intensive care unit,” Journal of the American Medical Informatics Association, vol. 21, no. 5, pp. 871–875, 2014, doi: 10.1136/amiajnl-2014-002694.\n"
   ]
  }
 ],
 "metadata": {
  "accelerator": "TPU",
  "colab": {
   "gpuType": "V28",
   "name": "",
   "version": ""
  },
  "kernelspec": {
   "display_name": "Python 3 (ipykernel)",
   "language": "python",
   "name": "python3"
  },
  "language_info": {
   "codemirror_mode": {
    "name": "ipython",
    "version": 3
   },
   "file_extension": ".py",
   "mimetype": "text/x-python",
   "name": "python",
   "nbconvert_exporter": "python",
   "pygments_lexer": "ipython3",
   "version": "3.12.4"
  },
  "papermill": {
   "default_parameters": {},
   "duration": 1295.42731,
   "end_time": "2022-09-14T15:45:13.308486",
   "environment_variables": {},
   "exception": null,
   "input_path": "__notebook__.ipynb",
   "output_path": "__notebook__.ipynb",
   "parameters": {},
   "start_time": "2022-09-14T15:23:37.881176",
   "version": "2.3.4"
  }
 },
 "nbformat": 4,
 "nbformat_minor": 5
}
